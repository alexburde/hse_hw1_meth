{
  "nbformat": 4,
  "nbformat_minor": 0,
  "metadata": {
    "colab": {
      "name": "Untitled11.ipynb",
      "provenance": [],
      "collapsed_sections": [],
      "mount_file_id": "1VmhoR_adAh7fbn5lenFYZGGqERjouR8k",
      "authorship_tag": "ABX9TyNx9uyp/Zcxq5ub7S9OtNrw",
      "include_colab_link": true
    },
    "kernelspec": {
      "name": "python3",
      "display_name": "Python 3"
    },
    "language_info": {
      "name": "python"
    }
  },
  "cells": [
    {
      "cell_type": "markdown",
      "metadata": {
        "id": "view-in-github",
        "colab_type": "text"
      },
      "source": [
        "<a href=\"https://colab.research.google.com/github/alexburde/hse_hw1_meth/blob/main/Untitled11.ipynb\" target=\"_parent\"><img src=\"https://colab.research.google.com/assets/colab-badge.svg\" alt=\"Open In Colab\"/></a>"
      ]
    },
    {
      "cell_type": "markdown",
      "source": [
        "Ссылка на диск с картированными чтениями"
      ],
      "metadata": {
        "id": "5LB989AFkgJW"
      }
    },
    {
      "cell_type": "markdown",
      "source": [
        "| | SRA accession  | Stage    |\n",
        "|---:|:-------------|:-----------|\n",
        "| 1 | SRR5836473  | 8 cell       |\n",
        "| 2 | SRR3824222 | Epiblast    |\n",
        "| 3 | SRR5836475  | ICM       |"
      ],
      "metadata": {
        "id": "bmi8GmclktkB"
      }
    },
    {
      "cell_type": "markdown",
      "source": [
        "Установка FastQC"
      ],
      "metadata": {
        "id": "W-QNpZjRk7Kf"
      }
    },
    {
      "cell_type": "code",
      "source": [
        "!wget https://www.bioinformatics.babraham.ac.uk/projects/fastqc/fastqc_v0.11.9.zip\n",
        "!unzip fastqc_v0.11.9.zip\n",
        "!chmod a+x FastQC/fastqc"
      ],
      "metadata": {
        "colab": {
          "base_uri": "https://localhost:8080/"
        },
        "id": "FeFyXRdHkuf5",
        "outputId": "4b25adc0-97bd-4f81-cccb-f787ad527436"
      },
      "execution_count": null,
      "outputs": [
        {
          "output_type": "stream",
          "name": "stdout",
          "text": [
            "--2022-02-15 18:10:29--  https://www.bioinformatics.babraham.ac.uk/projects/fastqc/fastqc_v0.11.9.zip\n",
            "Resolving www.bioinformatics.babraham.ac.uk (www.bioinformatics.babraham.ac.uk)... 149.155.133.4\n",
            "Connecting to www.bioinformatics.babraham.ac.uk (www.bioinformatics.babraham.ac.uk)|149.155.133.4|:443... connected.\n",
            "HTTP request sent, awaiting response... 200 OK\n",
            "Length: 10249221 (9.8M) [application/zip]\n",
            "Saving to: ‘fastqc_v0.11.9.zip’\n",
            "\n",
            "fastqc_v0.11.9.zip  100%[===================>]   9.77M  2.11MB/s    in 4.6s    \n",
            "\n",
            "2022-02-15 18:10:34 (2.11 MB/s) - ‘fastqc_v0.11.9.zip’ saved [10249221/10249221]\n",
            "\n",
            "Archive:  fastqc_v0.11.9.zip\n",
            "  inflating: FastQC/cisd-jhdf5.jar   \n",
            "   creating: FastQC/Configuration/\n",
            "  inflating: FastQC/Configuration/adapter_list.txt  \n",
            "  inflating: FastQC/Configuration/contaminant_list.txt  \n",
            "  inflating: FastQC/Configuration/limits.txt  \n",
            "  inflating: FastQC/fastqc           \n",
            "  inflating: FastQC/fastqc_icon.ico  \n",
            "   creating: FastQC/Help/\n",
            "   creating: FastQC/Help/1 Introduction/\n",
            "   creating: FastQC/Help/1 Introduction/.svn/\n",
            "  inflating: FastQC/Help/1 Introduction/.svn/entries  \n",
            "   creating: FastQC/Help/1 Introduction/.svn/props/\n",
            "   creating: FastQC/Help/1 Introduction/.svn/text-base/\n",
            "  inflating: FastQC/Help/1 Introduction/.svn/text-base/1.1 What is FastQC.html.svn-base  \n",
            "   creating: FastQC/Help/1 Introduction/.svn/tmp/\n",
            "   creating: FastQC/Help/1 Introduction/.svn/tmp/props/\n",
            "  inflating: FastQC/Help/1 Introduction/1.1 What is FastQC.html  \n",
            "   creating: FastQC/Help/2 Basic Operations/\n",
            "   creating: FastQC/Help/2 Basic Operations/.svn/\n",
            "  inflating: FastQC/Help/2 Basic Operations/.svn/entries  \n",
            "   creating: FastQC/Help/2 Basic Operations/.svn/props/\n",
            "   creating: FastQC/Help/2 Basic Operations/.svn/text-base/\n",
            "  inflating: FastQC/Help/2 Basic Operations/.svn/text-base/2.1 Opening a sequence file.html.svn-base  \n",
            "  inflating: FastQC/Help/2 Basic Operations/.svn/text-base/2.2 Evaluating Results.html.svn-base  \n",
            "  inflating: FastQC/Help/2 Basic Operations/.svn/text-base/2.3 Saving a Report.html.svn-base  \n",
            "   creating: FastQC/Help/2 Basic Operations/.svn/tmp/\n",
            "   creating: FastQC/Help/2 Basic Operations/.svn/tmp/props/\n",
            "  inflating: FastQC/Help/2 Basic Operations/2.1 Opening a sequence file.html  \n",
            "  inflating: FastQC/Help/2 Basic Operations/2.2 Evaluating Results.html  \n",
            "  inflating: FastQC/Help/2 Basic Operations/2.3 Saving a Report.html  \n",
            "   creating: FastQC/Help/3 Analysis Modules/\n",
            "   creating: FastQC/Help/3 Analysis Modules/.svn/\n",
            "  inflating: FastQC/Help/3 Analysis Modules/.svn/entries  \n",
            "   creating: FastQC/Help/3 Analysis Modules/.svn/prop-base/\n",
            " extracting: FastQC/Help/3 Analysis Modules/.svn/prop-base/duplication_levels.png.svn-base  \n",
            "  inflating: FastQC/Help/3 Analysis Modules/.svn/prop-base/kmer_profiles.png.svn-base  \n",
            " extracting: FastQC/Help/3 Analysis Modules/.svn/prop-base/per_base_gc_content.png.svn-base  \n",
            " extracting: FastQC/Help/3 Analysis Modules/.svn/prop-base/per_base_n_content.png.svn-base  \n",
            " extracting: FastQC/Help/3 Analysis Modules/.svn/prop-base/per_base_quality.png.svn-base  \n",
            " extracting: FastQC/Help/3 Analysis Modules/.svn/prop-base/per_base_sequence_content.png.svn-base  \n",
            " extracting: FastQC/Help/3 Analysis Modules/.svn/prop-base/per_sequence_gc_content.png.svn-base  \n",
            " extracting: FastQC/Help/3 Analysis Modules/.svn/prop-base/per_sequence_quality.png.svn-base  \n",
            " extracting: FastQC/Help/3 Analysis Modules/.svn/prop-base/per_tile_quality.png.svn-base  \n",
            " extracting: FastQC/Help/3 Analysis Modules/.svn/prop-base/sequence_length_distribution.png.svn-base  \n",
            "   creating: FastQC/Help/3 Analysis Modules/.svn/props/\n",
            "   creating: FastQC/Help/3 Analysis Modules/.svn/text-base/\n",
            "  inflating: FastQC/Help/3 Analysis Modules/.svn/text-base/1 Basic Statistics.html.svn-base  \n",
            "  inflating: FastQC/Help/3 Analysis Modules/.svn/text-base/10 Adapter Content.html.svn-base  \n",
            "  inflating: FastQC/Help/3 Analysis Modules/.svn/text-base/11 Kmer Content.html.svn-base  \n",
            "  inflating: FastQC/Help/3 Analysis Modules/.svn/text-base/12 Per Tile Sequence Quality.html.svn-base  \n",
            "  inflating: FastQC/Help/3 Analysis Modules/.svn/text-base/2 Per Base Sequence Quality.html.svn-base  \n",
            "  inflating: FastQC/Help/3 Analysis Modules/.svn/text-base/3 Per Sequence Quality Scores.html.svn-base  \n",
            "  inflating: FastQC/Help/3 Analysis Modules/.svn/text-base/4 Per Base Sequence Content.html.svn-base  \n",
            "  inflating: FastQC/Help/3 Analysis Modules/.svn/text-base/5 Per Sequence GC Content.html.svn-base  \n",
            "  inflating: FastQC/Help/3 Analysis Modules/.svn/text-base/6 Per Base N Content.html.svn-base  \n",
            "  inflating: FastQC/Help/3 Analysis Modules/.svn/text-base/7 Sequence Length Distribution.html.svn-base  \n",
            "  inflating: FastQC/Help/3 Analysis Modules/.svn/text-base/8 Duplicate Sequences.html.svn-base  \n",
            "  inflating: FastQC/Help/3 Analysis Modules/.svn/text-base/9 Overrepresented Sequences.html.svn-base  \n",
            "  inflating: FastQC/Help/3 Analysis Modules/.svn/text-base/duplication_levels.png.svn-base  \n",
            "  inflating: FastQC/Help/3 Analysis Modules/.svn/text-base/kmer_profiles.png.svn-base  \n",
            "  inflating: FastQC/Help/3 Analysis Modules/.svn/text-base/per_base_gc_content.png.svn-base  \n",
            "  inflating: FastQC/Help/3 Analysis Modules/.svn/text-base/per_base_n_content.png.svn-base  \n",
            "  inflating: FastQC/Help/3 Analysis Modules/.svn/text-base/per_base_quality.png.svn-base  \n",
            "  inflating: FastQC/Help/3 Analysis Modules/.svn/text-base/per_base_sequence_content.png.svn-base  \n",
            "  inflating: FastQC/Help/3 Analysis Modules/.svn/text-base/per_sequence_gc_content.png.svn-base  \n",
            "  inflating: FastQC/Help/3 Analysis Modules/.svn/text-base/per_sequence_quality.png.svn-base  \n",
            "  inflating: FastQC/Help/3 Analysis Modules/.svn/text-base/per_tile_quality.png.svn-base  \n",
            "  inflating: FastQC/Help/3 Analysis Modules/.svn/text-base/sequence_length_distribution.png.svn-base  \n",
            "   creating: FastQC/Help/3 Analysis Modules/.svn/tmp/\n",
            "   creating: FastQC/Help/3 Analysis Modules/.svn/tmp/props/\n",
            "  inflating: FastQC/Help/3 Analysis Modules/1 Basic Statistics.html  \n",
            "  inflating: FastQC/Help/3 Analysis Modules/10 Adapter Content.html  \n",
            "  inflating: FastQC/Help/3 Analysis Modules/11 Kmer Content.html  \n",
            "  inflating: FastQC/Help/3 Analysis Modules/12 Per Tile Sequence Quality.html  \n",
            "  inflating: FastQC/Help/3 Analysis Modules/2 Per Base Sequence Quality.html  \n",
            "  inflating: FastQC/Help/3 Analysis Modules/3 Per Sequence Quality Scores.html  \n",
            "  inflating: FastQC/Help/3 Analysis Modules/4 Per Base Sequence Content.html  \n",
            "  inflating: FastQC/Help/3 Analysis Modules/5 Per Sequence GC Content.html  \n",
            "  inflating: FastQC/Help/3 Analysis Modules/6 Per Base N Content.html  \n",
            "  inflating: FastQC/Help/3 Analysis Modules/7 Sequence Length Distribution.html  \n",
            "  inflating: FastQC/Help/3 Analysis Modules/8 Duplicate Sequences.html  \n",
            "  inflating: FastQC/Help/3 Analysis Modules/9 Overrepresented Sequences.html  \n",
            "  inflating: FastQC/Help/3 Analysis Modules/duplication_levels.png  \n",
            "  inflating: FastQC/Help/3 Analysis Modules/kmer_profiles.png  \n",
            "  inflating: FastQC/Help/3 Analysis Modules/per_base_gc_content.png  \n",
            "  inflating: FastQC/Help/3 Analysis Modules/per_base_n_content.png  \n",
            "  inflating: FastQC/Help/3 Analysis Modules/per_base_quality.png  \n",
            "  inflating: FastQC/Help/3 Analysis Modules/per_base_sequence_content.png  \n",
            "  inflating: FastQC/Help/3 Analysis Modules/per_sequence_gc_content.png  \n",
            "  inflating: FastQC/Help/3 Analysis Modules/per_sequence_quality.png  \n",
            "  inflating: FastQC/Help/3 Analysis Modules/per_tile_quality.png  \n",
            "  inflating: FastQC/Help/3 Analysis Modules/sequence_length_distribution.png  \n",
            "  inflating: FastQC/INSTALL.txt      \n",
            "  inflating: FastQC/jbzip2-0.9.jar   \n",
            "  inflating: FastQC/LICENSE          \n",
            "  inflating: FastQC/LICENSE.txt      \n",
            "  inflating: FastQC/LICENSE_JHDF5.txt  \n",
            "   creating: FastQC/net/\n",
            "   creating: FastQC/net/sourceforge/\n",
            "   creating: FastQC/net/sourceforge/iharder/\n",
            "   creating: FastQC/net/sourceforge/iharder/base64/\n",
            "  inflating: FastQC/net/sourceforge/iharder/base64/Base64$1.class  \n",
            "  inflating: FastQC/net/sourceforge/iharder/base64/Base64$InputStream.class  \n",
            "  inflating: FastQC/net/sourceforge/iharder/base64/Base64$OutputStream.class  \n",
            "  inflating: FastQC/net/sourceforge/iharder/base64/Base64.class  \n",
            "   creating: FastQC/org/\n",
            "   creating: FastQC/org/apache/\n",
            "   creating: FastQC/org/apache/commons/\n",
            "   creating: FastQC/org/apache/commons/math3/\n",
            "   creating: FastQC/org/apache/commons/math3/analysis/\n",
            "   creating: FastQC/org/apache/commons/math3/analysis/solvers/\n",
            "  inflating: FastQC/org/apache/commons/math3/analysis/solvers/AbstractUnivariateSolver.class  \n",
            "  inflating: FastQC/org/apache/commons/math3/analysis/solvers/AllowedSolution.class  \n",
            "  inflating: FastQC/org/apache/commons/math3/analysis/solvers/BaseAbstractUnivariateSolver.class  \n",
            "  inflating: FastQC/org/apache/commons/math3/analysis/solvers/BaseUnivariateSolver.class  \n",
            "  inflating: FastQC/org/apache/commons/math3/analysis/solvers/BracketedUnivariateSolver.class  \n",
            "  inflating: FastQC/org/apache/commons/math3/analysis/solvers/BrentSolver.class  \n",
            "  inflating: FastQC/org/apache/commons/math3/analysis/solvers/UnivariateSolver.class  \n",
            "  inflating: FastQC/org/apache/commons/math3/analysis/solvers/UnivariateSolverUtils.class  \n",
            "  inflating: FastQC/org/apache/commons/math3/analysis/UnivariateFunction.class  \n",
            "   creating: FastQC/org/apache/commons/math3/distribution/\n",
            "  inflating: FastQC/org/apache/commons/math3/distribution/AbstractIntegerDistribution.class  \n",
            "  inflating: FastQC/org/apache/commons/math3/distribution/AbstractRealDistribution$1.class  \n",
            "  inflating: FastQC/org/apache/commons/math3/distribution/AbstractRealDistribution.class  \n",
            "  inflating: FastQC/org/apache/commons/math3/distribution/BetaDistribution.class  \n",
            "  inflating: FastQC/org/apache/commons/math3/distribution/BinomialDistribution.class  \n",
            "  inflating: FastQC/org/apache/commons/math3/distribution/CauchyDistribution.class  \n",
            "  inflating: FastQC/org/apache/commons/math3/distribution/ChiSquaredDistribution.class  \n",
            "  inflating: FastQC/org/apache/commons/math3/distribution/FDistribution.class  \n",
            "  inflating: FastQC/org/apache/commons/math3/distribution/GammaDistribution.class  \n",
            "  inflating: FastQC/org/apache/commons/math3/distribution/HypergeometricDistribution.class  \n",
            "  inflating: FastQC/org/apache/commons/math3/distribution/IntegerDistribution.class  \n",
            "  inflating: FastQC/org/apache/commons/math3/distribution/NormalDistribution.class  \n",
            "  inflating: FastQC/org/apache/commons/math3/distribution/PascalDistribution.class  \n",
            "  inflating: FastQC/org/apache/commons/math3/distribution/PoissonDistribution.class  \n",
            "  inflating: FastQC/org/apache/commons/math3/distribution/RealDistribution.class  \n",
            "  inflating: FastQC/org/apache/commons/math3/distribution/SaddlePointExpansion.class  \n",
            "  inflating: FastQC/org/apache/commons/math3/distribution/TDistribution.class  \n",
            "  inflating: FastQC/org/apache/commons/math3/distribution/WeibullDistribution.class  \n",
            "  inflating: FastQC/org/apache/commons/math3/distribution/ZipfDistribution.class  \n",
            "   creating: FastQC/org/apache/commons/math3/exception/\n",
            "  inflating: FastQC/org/apache/commons/math3/exception/ConvergenceException.class  \n",
            "  inflating: FastQC/org/apache/commons/math3/exception/DimensionMismatchException.class  \n",
            "  inflating: FastQC/org/apache/commons/math3/exception/MathArithmeticException.class  \n",
            "  inflating: FastQC/org/apache/commons/math3/exception/MathIllegalArgumentException.class  \n",
            "  inflating: FastQC/org/apache/commons/math3/exception/MathIllegalNumberException.class  \n",
            "  inflating: FastQC/org/apache/commons/math3/exception/MathIllegalStateException.class  \n",
            "  inflating: FastQC/org/apache/commons/math3/exception/MathInternalError.class  \n",
            "  inflating: FastQC/org/apache/commons/math3/exception/MaxCountExceededException.class  \n",
            "  inflating: FastQC/org/apache/commons/math3/exception/NoBracketingException.class  \n",
            "  inflating: FastQC/org/apache/commons/math3/exception/NotFiniteNumberException.class  \n",
            "  inflating: FastQC/org/apache/commons/math3/exception/NotPositiveException.class  \n",
            "  inflating: FastQC/org/apache/commons/math3/exception/NotStrictlyPositiveException.class  \n",
            "  inflating: FastQC/org/apache/commons/math3/exception/NullArgumentException.class  \n",
            "  inflating: FastQC/org/apache/commons/math3/exception/NumberIsTooLargeException.class  \n",
            "  inflating: FastQC/org/apache/commons/math3/exception/NumberIsTooSmallException.class  \n",
            "  inflating: FastQC/org/apache/commons/math3/exception/OutOfRangeException.class  \n",
            "  inflating: FastQC/org/apache/commons/math3/exception/TooManyEvaluationsException.class  \n",
            "   creating: FastQC/org/apache/commons/math3/exception/util/\n",
            "  inflating: FastQC/org/apache/commons/math3/exception/util/ArgUtils.class  \n",
            "  inflating: FastQC/org/apache/commons/math3/exception/util/ExceptionContext.class  \n",
            "  inflating: FastQC/org/apache/commons/math3/exception/util/ExceptionContextProvider.class  \n",
            "  inflating: FastQC/org/apache/commons/math3/exception/util/Localizable.class  \n",
            "  inflating: FastQC/org/apache/commons/math3/exception/util/LocalizedFormats.class  \n",
            "   creating: FastQC/org/apache/commons/math3/random/\n",
            "  inflating: FastQC/org/apache/commons/math3/random/AbstractWell.class  \n",
            "  inflating: FastQC/org/apache/commons/math3/random/BitsStreamGenerator.class  \n",
            "  inflating: FastQC/org/apache/commons/math3/random/RandomData.class  \n",
            "  inflating: FastQC/org/apache/commons/math3/random/RandomDataImpl.class  \n",
            "  inflating: FastQC/org/apache/commons/math3/random/RandomGenerator.class  \n",
            "  inflating: FastQC/org/apache/commons/math3/random/Well19937c.class  \n",
            "   creating: FastQC/org/apache/commons/math3/special/\n",
            "  inflating: FastQC/org/apache/commons/math3/special/Beta$1.class  \n",
            "  inflating: FastQC/org/apache/commons/math3/special/Beta.class  \n",
            "  inflating: FastQC/org/apache/commons/math3/special/Erf.class  \n",
            "  inflating: FastQC/org/apache/commons/math3/special/Gamma$1.class  \n",
            "  inflating: FastQC/org/apache/commons/math3/special/Gamma.class  \n",
            "   creating: FastQC/org/apache/commons/math3/util/\n",
            "  inflating: FastQC/org/apache/commons/math3/util/ArithmeticUtils.class  \n",
            "  inflating: FastQC/org/apache/commons/math3/util/ContinuedFraction.class  \n",
            "  inflating: FastQC/org/apache/commons/math3/util/DoubleArray.class  \n",
            "  inflating: FastQC/org/apache/commons/math3/util/FastMath$ExpFracTable.class  \n",
            "  inflating: FastQC/org/apache/commons/math3/util/FastMath$ExpIntTable.class  \n",
            "  inflating: FastQC/org/apache/commons/math3/util/FastMath$lnMant.class  \n",
            "  inflating: FastQC/org/apache/commons/math3/util/FastMath.class  \n",
            "  inflating: FastQC/org/apache/commons/math3/util/FastMathCalc.class  \n",
            "  inflating: FastQC/org/apache/commons/math3/util/FastMathLiteralArrays.class  \n",
            "  inflating: FastQC/org/apache/commons/math3/util/Incrementor$1.class  \n",
            "  inflating: FastQC/org/apache/commons/math3/util/Incrementor$MaxCountExceededCallback.class  \n",
            "  inflating: FastQC/org/apache/commons/math3/util/Incrementor.class  \n",
            "  inflating: FastQC/org/apache/commons/math3/util/MathUtils.class  \n",
            "  inflating: FastQC/org/apache/commons/math3/util/Precision.class  \n",
            "  inflating: FastQC/org/apache/commons/math3/util/ResizableDoubleArray.class  \n",
            "  inflating: FastQC/README.md        \n",
            "  inflating: FastQC/README.txt       \n",
            "  inflating: FastQC/RELEASE_NOTES.txt  \n",
            "  inflating: FastQC/run_fastqc.bat   \n",
            "  inflating: FastQC/sam-1.103.jar    \n",
            "   creating: FastQC/Templates/\n",
            "  inflating: FastQC/Templates/fastqc2fo.xsl  \n",
            "  inflating: FastQC/Templates/header_template.html  \n",
            "   creating: FastQC/Templates/Icons/\n",
            " extracting: FastQC/Templates/Icons/error.png  \n",
            " extracting: FastQC/Templates/Icons/fastqc_icon.png  \n",
            " extracting: FastQC/Templates/Icons/tick.png  \n",
            " extracting: FastQC/Templates/Icons/warning.png  \n",
            "   creating: FastQC/uk/\n",
            "   creating: FastQC/uk/ac/\n",
            "   creating: FastQC/uk/ac/babraham/\n",
            "   creating: FastQC/uk/ac/babraham/FastQC/\n",
            "   creating: FastQC/uk/ac/babraham/FastQC/Analysis/\n",
            "  inflating: FastQC/uk/ac/babraham/FastQC/Analysis/AnalysisListener.class  \n",
            "  inflating: FastQC/uk/ac/babraham/FastQC/Analysis/AnalysisQueue.class  \n",
            "  inflating: FastQC/uk/ac/babraham/FastQC/Analysis/AnalysisRunner.class  \n",
            "  inflating: FastQC/uk/ac/babraham/FastQC/Analysis/OfflineRunner.class  \n",
            "   creating: FastQC/uk/ac/babraham/FastQC/Dialogs/\n",
            "  inflating: FastQC/uk/ac/babraham/FastQC/Dialogs/AboutDialog$1.class  \n",
            "  inflating: FastQC/uk/ac/babraham/FastQC/Dialogs/AboutDialog.class  \n",
            "  inflating: FastQC/uk/ac/babraham/FastQC/Dialogs/FastQCTitlePanel$SmoothJLabel.class  \n",
            "  inflating: FastQC/uk/ac/babraham/FastQC/Dialogs/FastQCTitlePanel.class  \n",
            "  inflating: FastQC/uk/ac/babraham/FastQC/Dialogs/WelcomePanel.class  \n",
            "  inflating: FastQC/uk/ac/babraham/FastQC/FastQCApplication$1.class  \n",
            "  inflating: FastQC/uk/ac/babraham/FastQC/FastQCApplication.class  \n",
            "  inflating: FastQC/uk/ac/babraham/FastQC/FastQCConfig.class  \n",
            "  inflating: FastQC/uk/ac/babraham/FastQC/FastQCMenuBar.class  \n",
            "   creating: FastQC/uk/ac/babraham/FastQC/FileFilters/\n",
            "  inflating: FastQC/uk/ac/babraham/FastQC/FileFilters/BAMFileFilter.class  \n",
            "  inflating: FastQC/uk/ac/babraham/FastQC/FileFilters/CasavaFastQFileFilter.class  \n",
            "  inflating: FastQC/uk/ac/babraham/FastQC/FileFilters/FastQFileFilter.class  \n",
            "  inflating: FastQC/uk/ac/babraham/FastQC/FileFilters/GobyFileFilter.class  \n",
            "  inflating: FastQC/uk/ac/babraham/FastQC/FileFilters/MappedBAMFileFilter.class  \n",
            "  inflating: FastQC/uk/ac/babraham/FastQC/FileFilters/SequenceFileFilter.class  \n",
            "   creating: FastQC/uk/ac/babraham/FastQC/Graphs/\n",
            "  inflating: FastQC/uk/ac/babraham/FastQC/Graphs/BaseGroup.class  \n",
            "  inflating: FastQC/uk/ac/babraham/FastQC/Graphs/LineGraph.class  \n",
            "  inflating: FastQC/uk/ac/babraham/FastQC/Graphs/QualityBoxPlot.class  \n",
            "  inflating: FastQC/uk/ac/babraham/FastQC/Graphs/TileGraph.class  \n",
            "   creating: FastQC/uk/ac/babraham/FastQC/Help/\n",
            "  inflating: FastQC/uk/ac/babraham/FastQC/Help/HelpDialog.class  \n",
            "  inflating: FastQC/uk/ac/babraham/FastQC/Help/HelpIndexRoot$FileSorter.class  \n",
            "  inflating: FastQC/uk/ac/babraham/FastQC/Help/HelpIndexRoot.class  \n",
            "  inflating: FastQC/uk/ac/babraham/FastQC/Help/HelpPage.class  \n",
            "  inflating: FastQC/uk/ac/babraham/FastQC/Help/HelpPageDisplay$HelpEditor.class  \n",
            "  inflating: FastQC/uk/ac/babraham/FastQC/Help/HelpPageDisplay.class  \n",
            "  inflating: FastQC/uk/ac/babraham/FastQC/Help/HelpSearchPanel.class  \n",
            "   creating: FastQC/uk/ac/babraham/FastQC/Modules/\n",
            "  inflating: FastQC/uk/ac/babraham/FastQC/Modules/AbstractQCModule.class  \n",
            "  inflating: FastQC/uk/ac/babraham/FastQC/Modules/AdapterContent$Adapter.class  \n",
            "  inflating: FastQC/uk/ac/babraham/FastQC/Modules/AdapterContent$ResultsTable.class  \n",
            "  inflating: FastQC/uk/ac/babraham/FastQC/Modules/AdapterContent.class  \n",
            "  inflating: FastQC/uk/ac/babraham/FastQC/Modules/BasicStats$ResultsTable.class  \n",
            "  inflating: FastQC/uk/ac/babraham/FastQC/Modules/BasicStats.class  \n",
            "  inflating: FastQC/uk/ac/babraham/FastQC/Modules/DuplicationLevel.class  \n",
            "   creating: FastQC/uk/ac/babraham/FastQC/Modules/GCModel/\n",
            "  inflating: FastQC/uk/ac/babraham/FastQC/Modules/GCModel/GCModel.class  \n",
            "  inflating: FastQC/uk/ac/babraham/FastQC/Modules/GCModel/GCModelValue.class  \n",
            "  inflating: FastQC/uk/ac/babraham/FastQC/Modules/KmerContent$Kmer.class  \n",
            "  inflating: FastQC/uk/ac/babraham/FastQC/Modules/KmerContent$ResultsTable.class  \n",
            "  inflating: FastQC/uk/ac/babraham/FastQC/Modules/KmerContent.class  \n",
            "  inflating: FastQC/uk/ac/babraham/FastQC/Modules/ModuleConfig.class  \n",
            "  inflating: FastQC/uk/ac/babraham/FastQC/Modules/ModuleFactory.class  \n",
            "  inflating: FastQC/uk/ac/babraham/FastQC/Modules/NContent.class  \n",
            "  inflating: FastQC/uk/ac/babraham/FastQC/Modules/OverRepresentedSeqs$OverrepresentedSeq.class  \n",
            "  inflating: FastQC/uk/ac/babraham/FastQC/Modules/OverRepresentedSeqs$ResultsTable.class  \n",
            "  inflating: FastQC/uk/ac/babraham/FastQC/Modules/OverRepresentedSeqs.class  \n",
            "  inflating: FastQC/uk/ac/babraham/FastQC/Modules/PerBaseQualityScores.class  \n",
            "  inflating: FastQC/uk/ac/babraham/FastQC/Modules/PerBaseSequenceContent.class  \n",
            "  inflating: FastQC/uk/ac/babraham/FastQC/Modules/PerSequenceGCContent.class  \n",
            "  inflating: FastQC/uk/ac/babraham/FastQC/Modules/PerSequenceQualityScores.class  \n",
            "  inflating: FastQC/uk/ac/babraham/FastQC/Modules/PerTileQualityScores.class  \n",
            "  inflating: FastQC/uk/ac/babraham/FastQC/Modules/QCModule.class  \n",
            "  inflating: FastQC/uk/ac/babraham/FastQC/Modules/SequenceLengthDistribution.class  \n",
            "   creating: FastQC/uk/ac/babraham/FastQC/Report/\n",
            "  inflating: FastQC/uk/ac/babraham/FastQC/Report/HTMLReportArchive.class  \n",
            "  inflating: FastQC/uk/ac/babraham/FastQC/Report/stylesheet.txt  \n",
            "   creating: FastQC/uk/ac/babraham/FastQC/Resources/\n",
            " extracting: FastQC/uk/ac/babraham/FastQC/Resources/error.png  \n",
            " extracting: FastQC/uk/ac/babraham/FastQC/Resources/fastqc_icon.png  \n",
            "  inflating: FastQC/uk/ac/babraham/FastQC/Resources/fastqc_icon.svg  \n",
            " extracting: FastQC/uk/ac/babraham/FastQC/Resources/fastqc_icon_100.png  \n",
            " extracting: FastQC/uk/ac/babraham/FastQC/Resources/tick.png  \n",
            " extracting: FastQC/uk/ac/babraham/FastQC/Resources/warning.png  \n",
            "   creating: FastQC/uk/ac/babraham/FastQC/Results/\n",
            "  inflating: FastQC/uk/ac/babraham/FastQC/Results/ResultsPanel$ModuleRenderer.class  \n",
            "  inflating: FastQC/uk/ac/babraham/FastQC/Results/ResultsPanel.class  \n",
            "   creating: FastQC/uk/ac/babraham/FastQC/Sequence/\n",
            "  inflating: FastQC/uk/ac/babraham/FastQC/Sequence/BAMFile.class  \n",
            "   creating: FastQC/uk/ac/babraham/FastQC/Sequence/Contaminant/\n",
            "  inflating: FastQC/uk/ac/babraham/FastQC/Sequence/Contaminant/Contaminant.class  \n",
            "  inflating: FastQC/uk/ac/babraham/FastQC/Sequence/Contaminant/ContaminantHit.class  \n",
            "  inflating: FastQC/uk/ac/babraham/FastQC/Sequence/Contaminant/ContaminentFinder.class  \n",
            "  inflating: FastQC/uk/ac/babraham/FastQC/Sequence/Fast5File.class  \n",
            "  inflating: FastQC/uk/ac/babraham/FastQC/Sequence/FastQFile.class  \n",
            "   creating: FastQC/uk/ac/babraham/FastQC/Sequence/QualityEncoding/\n",
            "  inflating: FastQC/uk/ac/babraham/FastQC/Sequence/QualityEncoding/PhredEncoding.class  \n",
            "  inflating: FastQC/uk/ac/babraham/FastQC/Sequence/Sequence.class  \n",
            "  inflating: FastQC/uk/ac/babraham/FastQC/Sequence/SequenceFactory.class  \n",
            "  inflating: FastQC/uk/ac/babraham/FastQC/Sequence/SequenceFile.class  \n",
            "  inflating: FastQC/uk/ac/babraham/FastQC/Sequence/SequenceFileGroup.class  \n",
            "  inflating: FastQC/uk/ac/babraham/FastQC/Sequence/SequenceFormatException.class  \n",
            "   creating: FastQC/uk/ac/babraham/FastQC/Statistics/\n",
            "  inflating: FastQC/uk/ac/babraham/FastQC/Statistics/NormalDistribution.class  \n",
            "  inflating: FastQC/uk/ac/babraham/FastQC/Statistics/PearsonCorrelation.class  \n",
            "   creating: FastQC/uk/ac/babraham/FastQC/Utilities/\n",
            "  inflating: FastQC/uk/ac/babraham/FastQC/Utilities/CasavaBasename.class  \n",
            "  inflating: FastQC/uk/ac/babraham/FastQC/Utilities/HotColdColourGradient.class  \n",
            "  inflating: FastQC/uk/ac/babraham/FastQC/Utilities/ImageToBase64.class  \n",
            "  inflating: FastQC/uk/ac/babraham/FastQC/Utilities/MultiMemberGZIPInputStream.class  \n",
            "  inflating: FastQC/uk/ac/babraham/FastQC/Utilities/NameFormatException.class  \n",
            "  inflating: FastQC/uk/ac/babraham/FastQC/Utilities/NanoporeBasename.class  \n",
            "  inflating: FastQC/uk/ac/babraham/FastQC/Utilities/QualityCount.class  \n",
            "  inflating: FastQC/uk/ac/babraham/FastQC/Utilities/RGB.class  \n"
          ]
        }
      ]
    },
    {
      "cell_type": "markdown",
      "source": [
        "Можно получать данные секвенировия с ENA. Например, https://www.ebi.ac.uk/ena/browser/view/SRR5836473"
      ],
      "metadata": {
        "id": "1mSx_QsAlJK7"
      }
    },
    {
      "cell_type": "code",
      "source": [
        "! wget ftp://ftp.sra.ebi.ac.uk/vol1/fastq/SRR583/003/SRR5836473/SRR5836473_1.fastq.gz\n",
        "! wget ftp://ftp.sra.ebi.ac.uk/vol1/fastq/SRR583/003/SRR5836473/SRR5836473_2.fastq.gz"
      ],
      "metadata": {
        "colab": {
          "base_uri": "https://localhost:8080/"
        },
        "id": "HYeRyuQ6kj65",
        "outputId": "3fd8c180-359c-4e33-bf67-25c1554a7c85"
      },
      "execution_count": null,
      "outputs": [
        {
          "output_type": "stream",
          "name": "stdout",
          "text": [
            "--2022-02-15 18:11:50--  ftp://ftp.sra.ebi.ac.uk/vol1/fastq/SRR583/003/SRR5836473/SRR5836473_1.fastq.gz\n",
            "           => ‘SRR5836473_1.fastq.gz’\n",
            "Resolving ftp.sra.ebi.ac.uk (ftp.sra.ebi.ac.uk)... 193.62.197.74\n",
            "Connecting to ftp.sra.ebi.ac.uk (ftp.sra.ebi.ac.uk)|193.62.197.74|:21... connected.\n",
            "Logging in as anonymous ... Logged in!\n",
            "==> SYST ... done.    ==> PWD ... done.\n",
            "==> TYPE I ... done.  ==> CWD (1) /vol1/fastq/SRR583/003/SRR5836473 ... done.\n",
            "==> SIZE SRR5836473_1.fastq.gz ... 6856386252\n",
            "==> PASV ... done.    ==> RETR SRR5836473_1.fastq.gz ... done.\n",
            "Length: 6856386252 (6.4G) (unauthoritative)\n",
            "\n",
            "SRR5836473_1.fastq. 100%[===================>]   6.38G  23.5MB/s    in 32m 29s \n",
            "\n",
            "2022-02-15 18:44:19 (3.36 MB/s) - Control connection closed.\n",
            "Retrying.\n",
            "\n",
            "--2022-02-15 18:59:20--  ftp://ftp.sra.ebi.ac.uk/vol1/fastq/SRR583/003/SRR5836473/SRR5836473_1.fastq.gz\n",
            "  (try: 2) => ‘SRR5836473_1.fastq.gz’\n",
            "Connecting to ftp.sra.ebi.ac.uk (ftp.sra.ebi.ac.uk)|193.62.197.74|:21... connected.\n",
            "Logging in as anonymous ... Logged in!\n",
            "==> SYST ... done.    ==> PWD ... done.\n",
            "==> TYPE I ... done.  ==> CWD (1) /vol1/fastq/SRR583/003/SRR5836473 ... done.\n",
            "==> SIZE SRR5836473_1.fastq.gz ... 6856386252\n",
            "File has already been retrieved.\n",
            "2022-02-15 18:59:20 (0.00 B/s) - ‘SRR5836473_1.fastq.gz’ saved [6856386252]\n",
            "\n",
            "--2022-02-15 18:59:20--  ftp://ftp.sra.ebi.ac.uk/vol1/fastq/SRR583/003/SRR5836473/SRR5836473_2.fastq.gz\n",
            "           => ‘SRR5836473_2.fastq.gz’\n",
            "Resolving ftp.sra.ebi.ac.uk (ftp.sra.ebi.ac.uk)... 193.62.197.74\n",
            "Connecting to ftp.sra.ebi.ac.uk (ftp.sra.ebi.ac.uk)|193.62.197.74|:21... connected.\n",
            "Logging in as anonymous ... Logged in!\n",
            "==> SYST ... done.    ==> PWD ... done.\n",
            "==> TYPE I ... done.  ==> CWD (1) /vol1/fastq/SRR583/003/SRR5836473 ... done.\n",
            "==> SIZE SRR5836473_2.fastq.gz ... 8127008133\n",
            "==> PASV ... done.    ==> RETR SRR5836473_2.fastq.gz ... done.\n",
            "Length: 8127008133 (7.6G) (unauthoritative)\n",
            "\n",
            "SRR5836473_2.fastq. 100%[===================>]   7.57G  52.7MB/s    in 80s     \n",
            "\n",
            "2022-02-15 19:00:40 (96.6 MB/s) - ‘SRR5836473_2.fastq.gz’ saved [8127008133]\n",
            "\n"
          ]
        }
      ]
    },
    {
      "cell_type": "code",
      "source": [
        "! wget ftp://ftp.sra.ebi.ac.uk/vol1/fastq/SRR382/002/SRR3824222/SRR3824222_1.fastq.gz\n",
        "! wget ftp://ftp.sra.ebi.ac.uk/vol1/fastq/SRR382/002/SRR3824222/SRR3824222_2.fastq.gz"
      ],
      "metadata": {
        "colab": {
          "base_uri": "https://localhost:8080/"
        },
        "id": "G_oQgThetC-8",
        "outputId": "d6995c03-ecbf-4a79-dd81-a8747ee92139"
      },
      "execution_count": null,
      "outputs": [
        {
          "output_type": "stream",
          "name": "stdout",
          "text": [
            "--2022-02-15 19:07:27--  ftp://ftp.sra.ebi.ac.uk/vol1/fastq/SRR382/002/SRR3824222/SRR3824222_1.fastq.gz\n",
            "           => ‘SRR3824222_1.fastq.gz’\n",
            "Resolving ftp.sra.ebi.ac.uk (ftp.sra.ebi.ac.uk)... 193.62.197.74\n",
            "Connecting to ftp.sra.ebi.ac.uk (ftp.sra.ebi.ac.uk)|193.62.197.74|:21... connected.\n",
            "Logging in as anonymous ... Logged in!\n",
            "==> SYST ... done.    ==> PWD ... done.\n",
            "==> TYPE I ... done.  ==> CWD (1) /vol1/fastq/SRR382/002/SRR3824222 ... done.\n",
            "==> SIZE SRR3824222_1.fastq.gz ... 8096784759\n",
            "==> PASV ... done.    ==> RETR SRR3824222_1.fastq.gz ... done.\n",
            "Length: 8096784759 (7.5G) (unauthoritative)\n",
            "\n",
            "SRR3824222_1.fastq. 100%[===================>]   7.54G  55.5MB/s    in 2m 31s  \n",
            "\n",
            "2022-02-15 19:09:58 (51.2 MB/s) - ‘SRR3824222_1.fastq.gz’ saved [8096784759]\n",
            "\n",
            "--2022-02-15 19:09:59--  ftp://ftp.sra.ebi.ac.uk/vol1/fastq/SRR382/002/SRR3824222/SRR3824222_2.fastq.gz\n",
            "           => ‘SRR3824222_2.fastq.gz’\n",
            "Resolving ftp.sra.ebi.ac.uk (ftp.sra.ebi.ac.uk)... 193.62.197.74\n",
            "Connecting to ftp.sra.ebi.ac.uk (ftp.sra.ebi.ac.uk)|193.62.197.74|:21... connected.\n",
            "Logging in as anonymous ... Logged in!\n",
            "==> SYST ... done.    ==> PWD ... done.\n",
            "==> TYPE I ... done.  ==> CWD (1) /vol1/fastq/SRR382/002/SRR3824222 ... done.\n",
            "==> SIZE SRR3824222_2.fastq.gz ... 10233274189\n",
            "==> PASV ... done.    ==> RETR SRR3824222_2.fastq.gz ... done.\n",
            "Length: 10233274189 (9.5G) (unauthoritative)\n",
            "\n",
            "SRR3824222_2.fastq. 100%[===================>]   9.53G  47.5MB/s    in 1m 40s  \n",
            "\n",
            "2022-02-15 19:11:39 (97.7 MB/s) - ‘SRR3824222_2.fastq.gz’ saved [10233274189]\n",
            "\n"
          ]
        }
      ]
    },
    {
      "cell_type": "code",
      "source": [
        "! wget ftp://ftp.sra.ebi.ac.uk/vol1/fastq/SRR583/005/SRR5836475/SRR5836475_1.fastq.gz\n",
        "! wget ftp://ftp.sra.ebi.ac.uk/vol1/fastq/SRR583/005/SRR5836475/SRR5836475_2.fastq.gz"
      ],
      "metadata": {
        "colab": {
          "base_uri": "https://localhost:8080/"
        },
        "id": "LPIdxb9RtpjS",
        "outputId": "220f6589-731f-465e-fdd9-2acc55cb1de1"
      },
      "execution_count": null,
      "outputs": [
        {
          "output_type": "stream",
          "name": "stdout",
          "text": [
            "--2022-02-15 19:12:27--  ftp://ftp.sra.ebi.ac.uk/vol1/fastq/SRR583/005/SRR5836475/SRR5836475_1.fastq.gz\n",
            "           => ‘SRR5836475_1.fastq.gz’\n",
            "Resolving ftp.sra.ebi.ac.uk (ftp.sra.ebi.ac.uk)... 193.62.197.74\n",
            "Connecting to ftp.sra.ebi.ac.uk (ftp.sra.ebi.ac.uk)|193.62.197.74|:21... connected.\n",
            "Logging in as anonymous ... Logged in!\n",
            "==> SYST ... done.    ==> PWD ... done.\n",
            "==> TYPE I ... done.  ==> CWD (1) /vol1/fastq/SRR583/005/SRR5836475 ... done.\n",
            "==> SIZE SRR5836475_1.fastq.gz ... 6139527111\n",
            "==> PASV ... done.    ==> RETR SRR5836475_1.fastq.gz ... done.\n",
            "Length: 6139527111 (5.7G) (unauthoritative)\n",
            "\n",
            "SRR5836475_1.fastq. 100%[===================>]   5.72G  99.8MB/s    in 59s     \n",
            "\n",
            "2022-02-15 19:13:27 (99.0 MB/s) - ‘SRR5836475_1.fastq.gz’ saved [6139527111]\n",
            "\n",
            "--2022-02-15 19:13:27--  ftp://ftp.sra.ebi.ac.uk/vol1/fastq/SRR583/005/SRR5836475/SRR5836475_2.fastq.gz\n",
            "           => ‘SRR5836475_2.fastq.gz’\n",
            "Resolving ftp.sra.ebi.ac.uk (ftp.sra.ebi.ac.uk)... 193.62.197.74\n",
            "Connecting to ftp.sra.ebi.ac.uk (ftp.sra.ebi.ac.uk)|193.62.197.74|:21... connected.\n",
            "Logging in as anonymous ... Logged in!\n",
            "==> SYST ... done.    ==> PWD ... done.\n",
            "==> TYPE I ... done.  ==> CWD (1) /vol1/fastq/SRR583/005/SRR5836475 ... done.\n",
            "==> SIZE SRR5836475_2.fastq.gz ... 7492692021\n",
            "==> PASV ... done.    ==> RETR SRR5836475_2.fastq.gz ... done.\n",
            "Length: 7492692021 (7.0G) (unauthoritative)\n",
            "\n",
            "SRR5836475_2.fastq. 100%[===================>]   6.98G  76.2MB/s    in 60s     \n",
            "\n",
            "2022-02-15 19:14:28 (118 MB/s) - ‘SRR5836475_2.fastq.gz’ saved [7492692021]\n",
            "\n"
          ]
        }
      ]
    },
    {
      "cell_type": "markdown",
      "source": [
        "Установка Bismark с зависимостями (+bowtie2, samtools)"
      ],
      "metadata": {
        "id": "vtAY4lf0lZhr"
      }
    },
    {
      "cell_type": "code",
      "source": [
        "! pip install -q condacolab\n",
        "import condacolab\n",
        "condacolab.install()"
      ],
      "metadata": {
        "colab": {
          "base_uri": "https://localhost:8080/"
        },
        "id": "3VLauHFhlNRI",
        "outputId": "a7d60674-8b64-444a-c929-65f3c916b041"
      },
      "execution_count": null,
      "outputs": [
        {
          "output_type": "stream",
          "name": "stdout",
          "text": [
            "✨🍰✨ Everything looks OK!\n"
          ]
        }
      ]
    },
    {
      "cell_type": "code",
      "source": [
        "import condacolab\n",
        "condacolab.check()"
      ],
      "metadata": {
        "colab": {
          "base_uri": "https://localhost:8080/"
        },
        "id": "IXmr2Dullo-g",
        "outputId": "26993f83-4858-45f7-9346-5daaf84e57aa"
      },
      "execution_count": null,
      "outputs": [
        {
          "output_type": "stream",
          "name": "stdout",
          "text": [
            "✨🍰✨ Everything looks OK!\n"
          ]
        }
      ]
    },
    {
      "cell_type": "code",
      "source": [
        "! conda install -c bioconda bismark"
      ],
      "metadata": {
        "colab": {
          "base_uri": "https://localhost:8080/"
        },
        "id": "ioHsjvkQlpm1",
        "outputId": "4d0cad13-7161-40c3-a866-a6ecc7a994fb"
      },
      "execution_count": null,
      "outputs": [
        {
          "output_type": "stream",
          "name": "stdout",
          "text": [
            "Collecting package metadata (current_repodata.json): - \b\b\\ \b\b| \b\b/ \b\b- \b\b\\ \b\b| \b\b/ \b\b- \b\b\\ \b\b| \b\b/ \b\b- \b\b\\ \b\b| \b\b/ \b\b- \b\b\\ \b\b| \b\b/ \b\b- \b\b\\ \b\b| \b\b/ \b\b- \b\b\\ \b\b| \b\b/ \b\b- \b\b\\ \b\b| \b\b/ \b\b- \b\b\\ \b\b| \b\b/ \b\b- \b\b\\ \b\b| \b\b/ \b\b- \b\b\\ \b\b| \b\b/ \b\b- \b\b\\ \b\b| \b\b/ \b\b- \b\b\\ \b\b| \b\b/ \b\b- \b\b\\ \b\b| \b\b/ \b\b- \b\b\\ \b\b| \b\b/ \b\b- \b\b\\ \b\b| \b\b/ \b\b- \b\b\\ \b\b| \b\b/ \b\b- \b\b\\ \b\b| \b\b/ \b\b- \b\b\\ \b\b| \b\b/ \b\b- \b\b\\ \b\b| \b\b/ \b\b- \b\b\\ \b\b| \b\b/ \b\b- \b\b\\ \b\b| \b\b/ \b\b- \b\b\\ \b\b| \b\b/ \b\b- \b\b\\ \b\b| \b\b/ \b\b- \b\b\\ \b\bdone\n",
            "Solving environment: / \b\b- \b\b\\ \b\b| \b\b/ \b\b- \b\b\\ \b\b| \b\b/ \b\bdone\n",
            "\n",
            "## Package Plan ##\n",
            "\n",
            "  environment location: /usr/local\n",
            "\n",
            "  added / updated specs:\n",
            "    - bismark\n",
            "\n",
            "\n",
            "The following packages will be downloaded:\n",
            "\n",
            "    package                    |            build\n",
            "    ---------------------------|-----------------\n",
            "    bismark-0.23.1             |       hdfd78af_0         6.6 MB  bioconda\n",
            "    bowtie2-2.2.5              |   py37h22450f8_8        14.9 MB  bioconda\n",
            "    ca-certificates-2021.10.8  |       ha878542_0         139 KB  conda-forge\n",
            "    certifi-2021.10.8          |   py37h89c1867_1         145 KB  conda-forge\n",
            "    conda-4.11.0               |   py37h89c1867_0        16.9 MB  conda-forge\n",
            "    hisat2-2.2.1               |       h1b792b2_3        16.5 MB  bioconda\n",
            "    perl-5.32.1                | 0_h7f98852_perl5        14.5 MB  conda-forge\n",
            "    python_abi-3.7             |          2_cp37m           4 KB  conda-forge\n",
            "    samtools-1.3.1             |                0         1.5 MB  bioconda\n",
            "    ------------------------------------------------------------\n",
            "                                           Total:        71.1 MB\n",
            "\n",
            "The following NEW packages will be INSTALLED:\n",
            "\n",
            "  bismark            bioconda/noarch::bismark-0.23.1-hdfd78af_0\n",
            "  bowtie2            bioconda/linux-64::bowtie2-2.2.5-py37h22450f8_8\n",
            "  hisat2             bioconda/linux-64::hisat2-2.2.1-h1b792b2_3\n",
            "  perl               conda-forge/linux-64::perl-5.32.1-0_h7f98852_perl5\n",
            "  samtools           bioconda/linux-64::samtools-1.3.1-0\n",
            "\n",
            "The following packages will be UPDATED:\n",
            "\n",
            "  ca-certificates                      2020.12.5-ha878542_0 --> 2021.10.8-ha878542_0\n",
            "  certifi                          2020.12.5-py37h89c1867_1 --> 2021.10.8-py37h89c1867_1\n",
            "  conda                                4.9.2-py37h89c1867_0 --> 4.11.0-py37h89c1867_0\n",
            "  python_abi                                    3.7-1_cp37m --> 3.7-2_cp37m\n",
            "\n",
            "\n",
            "\n",
            "Downloading and Extracting Packages\n",
            "samtools-1.3.1       | 1.5 MB    | : 100% 1.0/1 [00:01<00:00,  1.50s/it]\n",
            "certifi-2021.10.8    | 145 KB    | : 100% 1.0/1 [00:00<00:00, 10.23it/s]\n",
            "bismark-0.23.1       | 6.6 MB    | : 100% 1.0/1 [00:02<00:00,  2.12s/it]              \n",
            "ca-certificates-2021 | 139 KB    | : 100% 1.0/1 [00:00<00:00, 13.82it/s]\n",
            "conda-4.11.0         | 16.9 MB   | : 100% 1.0/1 [00:04<00:00,  4.50s/it]               \n",
            "bowtie2-2.2.5        | 14.9 MB   | : 100% 1.0/1 [00:03<00:00,  3.13s/it]\n",
            "hisat2-2.2.1         | 16.5 MB   | : 100% 1.0/1 [00:03<00:00,  3.25s/it]               \n",
            "perl-5.32.1          | 14.5 MB   | : 100% 1.0/1 [00:03<00:00,  3.37s/it]\n",
            "python_abi-3.7       | 4 KB      | : 100% 1.0/1 [00:00<00:00, 23.84it/s]\n",
            "Preparing transaction: \\ \b\b| \b\bdone\n",
            "Verifying transaction: - \b\b\\ \b\b| \b\b/ \b\b- \b\b\\ \b\bdone\n",
            "Executing transaction: / \b\b- \b\b\\ \b\bdone\n"
          ]
        }
      ]
    },
    {
      "cell_type": "code",
      "source": [
        "! samtools view"
      ],
      "metadata": {
        "colab": {
          "base_uri": "https://localhost:8080/"
        },
        "id": "sempsXimlsxj",
        "outputId": "4e4b8c93-3067-4c73-d96e-72f0b9b28323"
      },
      "execution_count": null,
      "outputs": [
        {
          "output_type": "stream",
          "name": "stdout",
          "text": [
            "\n",
            "Usage: samtools view [options] <in.bam>|<in.sam>|<in.cram> [region ...]\n",
            "\n",
            "Options:\n",
            "  -b       output BAM\n",
            "  -C       output CRAM (requires -T)\n",
            "  -1       use fast BAM compression (implies -b)\n",
            "  -u       uncompressed BAM output (implies -b)\n",
            "  -h       include header in SAM output\n",
            "  -H       print SAM header only (no alignments)\n",
            "  -c       print only the count of matching records\n",
            "  -o FILE  output file name [stdout]\n",
            "  -U FILE  output reads not selected by filters to FILE [null]\n",
            "  -t FILE  FILE listing reference names and lengths (see long help) [null]\n",
            "  -L FILE  only include reads overlapping this BED FILE [null]\n",
            "  -r STR   only include reads in read group STR [null]\n",
            "  -R FILE  only include reads with read group listed in FILE [null]\n",
            "  -q INT   only include reads with mapping quality >= INT [0]\n",
            "  -l STR   only include reads in library STR [null]\n",
            "  -m INT   only include reads with number of CIGAR operations consuming\n",
            "           query sequence >= INT [0]\n",
            "  -f INT   only include reads with all bits set in INT set in FLAG [0]\n",
            "  -F INT   only include reads with none of the bits set in INT set in FLAG [0]\n",
            "  -x STR   read tag to strip (repeatable) [null]\n",
            "  -B       collapse the backward CIGAR operation\n",
            "  -s FLOAT integer part sets seed of random number generator [0];\n",
            "           rest sets fraction of templates to subsample [no subsampling]\n",
            "  -@, --threads INT\n",
            "           number of BAM/CRAM compression threads [0]\n",
            "  -?       print long help, including note about region specification\n",
            "  -S       ignored (input format is auto-detected)\n",
            "      --input-fmt-option OPT[=VAL]\n",
            "               Specify a single input file format option in the form\n",
            "               of OPTION or OPTION=VALUE\n",
            "  -O, --output-fmt FORMAT[,OPT[=VAL]]...\n",
            "               Specify output format (SAM, BAM, CRAM)\n",
            "      --output-fmt-option OPT[=VAL]\n",
            "               Specify a single output file format option in the form\n",
            "               of OPTION or OPTION=VALUE\n",
            "  -T, --reference FILE\n",
            "               Reference sequence FASTA FILE [null]\n",
            "\n"
          ]
        }
      ]
    },
    {
      "cell_type": "markdown",
      "source": [
        "Можно загрузить файл с google drive напрямую:"
      ],
      "metadata": {
        "id": "ALvlPNq6lxw0"
      }
    },
    {
      "cell_type": "code",
      "source": [
        "! pip install -U --no-cache-dir gdown --pre"
      ],
      "metadata": {
        "colab": {
          "base_uri": "https://localhost:8080/"
        },
        "id": "yo5iNJ4X3nPD",
        "outputId": "74158ad0-cf79-4901-8526-a798890e1204"
      },
      "execution_count": 50,
      "outputs": [
        {
          "output_type": "stream",
          "name": "stdout",
          "text": [
            "Requirement already satisfied: gdown in /usr/local/lib/python3.7/site-packages (4.2.1)\n",
            "Requirement already satisfied: tqdm in /usr/local/lib/python3.7/site-packages (from gdown) (4.59.0)\n",
            "Requirement already satisfied: six in /usr/local/lib/python3.7/site-packages (from gdown) (1.15.0)\n",
            "Requirement already satisfied: beautifulsoup4 in /usr/local/lib/python3.7/site-packages (from gdown) (4.10.0)\n",
            "Requirement already satisfied: filelock in /usr/local/lib/python3.7/site-packages (from gdown) (3.5.0)\n",
            "Requirement already satisfied: requests[socks] in /usr/local/lib/python3.7/site-packages (from gdown) (2.25.1)\n",
            "Requirement already satisfied: soupsieve>1.2 in /usr/local/lib/python3.7/site-packages (from beautifulsoup4->gdown) (2.3.1)\n",
            "Requirement already satisfied: urllib3<1.27,>=1.21.1 in /usr/local/lib/python3.7/site-packages (from requests[socks]->gdown) (1.26.3)\n",
            "Requirement already satisfied: idna<3,>=2.5 in /usr/local/lib/python3.7/site-packages (from requests[socks]->gdown) (2.10)\n",
            "Requirement already satisfied: certifi>=2017.4.17 in /usr/local/lib/python3.7/site-packages (from requests[socks]->gdown) (2021.10.8)\n",
            "Requirement already satisfied: chardet<5,>=3.0.2 in /usr/local/lib/python3.7/site-packages (from requests[socks]->gdown) (4.0.0)\n",
            "Requirement already satisfied: PySocks!=1.5.7,>=1.5.6 in /usr/local/lib/python3.7/site-packages (from requests[socks]->gdown) (1.7.1)\n"
          ]
        }
      ]
    },
    {
      "cell_type": "code",
      "source": [
        "!rm ~/.cache/gdown/cookies.json"
      ],
      "metadata": {
        "id": "iErd5IZR3uyf"
      },
      "execution_count": 51,
      "outputs": []
    },
    {
      "cell_type": "code",
      "source": [
        "# bam файл\n",
        "!gdown --id 1A0yrDgfIyBir3fPgT9_mclEZNOUkhCfP"
      ],
      "metadata": {
        "colab": {
          "base_uri": "https://localhost:8080/"
        },
        "id": "xrQiZo2T6viT",
        "outputId": "0c83157b-ae3b-4e60-ef58-0e1edb0ace63"
      },
      "execution_count": 52,
      "outputs": [
        {
          "output_type": "stream",
          "name": "stdout",
          "text": [
            "Downloading...\n",
            "From: https://drive.google.com/uc?id=1A0yrDgfIyBir3fPgT9_mclEZNOUkhCfP\n",
            "To: /content/SRR5836473_1_bismark_bt2_pe.bam\n",
            "100% 667M/667M [00:03<00:00, 179MB/s]\n"
          ]
        }
      ]
    },
    {
      "cell_type": "code",
      "source": [
        ""
      ],
      "metadata": {
        "id": "L_cOhrRbbNV6"
      },
      "execution_count": null,
      "outputs": []
    },
    {
      "cell_type": "code",
      "source": [
        "!gdown --id 1U5wI_ik6HOYnuXmE1ipgWxwK0hcYruw3"
      ],
      "metadata": {
        "colab": {
          "base_uri": "https://localhost:8080/"
        },
        "id": "DYWoPbkc0ypD",
        "outputId": "b2b92a7e-ae04-4da9-989f-511c3b57bd4a"
      },
      "execution_count": 69,
      "outputs": [
        {
          "output_type": "stream",
          "name": "stdout",
          "text": [
            "Downloading...\n",
            "From: https://drive.google.com/uc?id=1U5wI_ik6HOYnuXmE1ipgWxwK0hcYruw3\n",
            "To: /content/SRR3824222_1_bismark_bt2_pe.bam\n",
            "100% 1.56G/1.56G [00:07<00:00, 205MB/s]\n"
          ]
        }
      ]
    },
    {
      "cell_type": "code",
      "source": [
        "!gdown --id 1SE4qg_4hzE2YkPXZbFMwKC3jaK09ZHDy"
      ],
      "metadata": {
        "colab": {
          "base_uri": "https://localhost:8080/"
        },
        "id": "fKcD-Are02L-",
        "outputId": "cc4e1be1-97c6-4a1a-f612-4e518dd9ccce"
      },
      "execution_count": 70,
      "outputs": [
        {
          "output_type": "stream",
          "name": "stdout",
          "text": [
            "Downloading...\n",
            "From: https://drive.google.com/uc?id=1SE4qg_4hzE2YkPXZbFMwKC3jaK09ZHDy\n",
            "To: /content/SRR5836475_1_bismark_bt2_pe.bam\n",
            "100% 960M/960M [00:04<00:00, 225MB/s]\n"
          ]
        }
      ]
    },
    {
      "cell_type": "code",
      "source": [
        "# отчет о выравнивании тоже нужен\n",
        "! gdown --id 1tnhtwKBO2Fszj-Im30XuuADtO7oIN5-B"
      ],
      "metadata": {
        "colab": {
          "base_uri": "https://localhost:8080/"
        },
        "id": "PSX3QFfNlvRv",
        "outputId": "6fed232e-17c7-4b5b-ede5-f40f01667602"
      },
      "execution_count": null,
      "outputs": [
        {
          "output_type": "stream",
          "name": "stdout",
          "text": [
            "Downloading...\n",
            "From: https://drive.google.com/uc?id=1tnhtwKBO2Fszj-Im30XuuADtO7oIN5-B\n",
            "To: /content/SRR5836473_1_bismark_bt2_PE_report.txt\n",
            "\r  0% 0.00/1.90k [00:00<?, ?B/s]\r100% 1.90k/1.90k [00:00<00:00, 2.53MB/s]\n"
          ]
        }
      ]
    },
    {
      "cell_type": "code",
      "source": [
        "! gdown --id 1a-USP32jw0n6L9pRqsbUCjt4j8VopPBg"
      ],
      "metadata": {
        "id": "FTB_Cp1K05yM",
        "colab": {
          "base_uri": "https://localhost:8080/"
        },
        "outputId": "a10447e5-dee4-4840-d207-9ee105210d90"
      },
      "execution_count": null,
      "outputs": [
        {
          "output_type": "stream",
          "name": "stdout",
          "text": [
            "Downloading...\n",
            "From: https://drive.google.com/uc?id=1a-USP32jw0n6L9pRqsbUCjt4j8VopPBg\n",
            "To: /content/SRR3824222_1_bismark_bt2_PE_report.txt\n",
            "\r  0% 0.00/1.90k [00:00<?, ?B/s]\r100% 1.90k/1.90k [00:00<00:00, 1.44MB/s]\n"
          ]
        }
      ]
    },
    {
      "cell_type": "code",
      "source": [
        "! gdown --id 14vyhf4aKfEPXR2yfK1Rk_f3Muzf1hL40"
      ],
      "metadata": {
        "id": "hYESA4qL06oF",
        "colab": {
          "base_uri": "https://localhost:8080/"
        },
        "outputId": "e9677b00-1710-47b7-a2cc-951e2f39e9c9"
      },
      "execution_count": null,
      "outputs": [
        {
          "output_type": "stream",
          "name": "stdout",
          "text": [
            "Downloading...\n",
            "From: https://drive.google.com/uc?id=14vyhf4aKfEPXR2yfK1Rk_f3Muzf1hL40\n",
            "To: /content/SRR5836475_1_bismark_bt2_PE_report.txt\n",
            "\r  0% 0.00/1.89k [00:00<?, ?B/s]\r100% 1.89k/1.89k [00:00<00:00, 1.48MB/s]\n"
          ]
        }
      ]
    },
    {
      "cell_type": "code",
      "source": [
        "! ls -lh"
      ],
      "metadata": {
        "id": "4-m2-TfOl6YU",
        "colab": {
          "base_uri": "https://localhost:8080/"
        },
        "outputId": "ca8ad6fa-f9cf-48c6-ec53-0e3c98d95600"
      },
      "execution_count": 72,
      "outputs": [
        {
          "output_type": "stream",
          "name": "stdout",
          "text": [
            "total 47G\n",
            "-rw-r--r-- 1 root root  14K Feb 15 19:01 condacolab_install.log\n",
            "drwx------ 5 root root 4.0K Feb 15 22:26 drive\n",
            "drwxr-xr-x 8 root root 4.0K Feb 15 18:10 FastQC\n",
            "-rw-r--r-- 1 root root 9.8M Jan 15  2020 fastqc_v0.11.9.zip\n",
            "drwxr-xr-x 1 root root 4.0K Feb  1 14:32 sample_data\n",
            "-rw------- 1 root root 1.5G Feb 15 22:38 SRR3824222_1_bismark_bt2_pe.bam\n",
            "-rw------- 1 root root 1.9K Feb 15 20:53 SRR3824222_1_bismark_bt2_PE_report.txt\n",
            "-rw-r--r-- 1 root root 7.6G Feb 15 19:09 SRR3824222_1.fastq.gz\n",
            "-rw-r--r-- 1 root root 9.6G Feb 15 19:11 SRR3824222_2.fastq.gz\n",
            "-rw------- 1 root root 636M Feb 15 22:20 SRR5836473_1_bismark_bt2_pe.bam\n",
            "-rw------- 1 root root 1.9K Feb 15 19:18 SRR5836473_1_bismark_bt2_PE_report.txt\n",
            "-rw-r--r-- 1 root root 6.4G Feb 15 18:44 SRR5836473_1.fastq.gz\n",
            "-rw-r--r-- 1 root root 7.6G Feb 15 19:00 SRR5836473_2.fastq.gz\n",
            "-rw------- 1 root root 916M Feb 15 22:40 SRR5836475_1_bismark_bt2_pe.bam\n",
            "-rw------- 1 root root 1.9K Feb 15 21:00 SRR5836475_1_bismark_bt2_PE_report.txt\n",
            "-rw-r--r-- 1 root root 5.8G Feb 15 19:13 SRR5836475_1.fastq.gz\n",
            "-rw-r--r-- 1 root root 7.0G Feb 15 19:14 SRR5836475_2.fastq.gz\n"
          ]
        }
      ]
    },
    {
      "cell_type": "code",
      "source": [
        "! samtools view SRR5836473_1_bismark_bt2_pe.bam | head\n",
        "! samtools view SRR3824222_1_bismark_bt2_pe.bam | head\n",
        "! samtools view SRR5836475_1_bismark_bt2_pe.bam | head"
      ],
      "metadata": {
        "id": "m4FVjLDTl9Ju",
        "colab": {
          "base_uri": "https://localhost:8080/"
        },
        "outputId": "7af8d0ba-3f06-46b8-d9e4-21400f982a96"
      },
      "execution_count": 73,
      "outputs": [
        {
          "output_type": "stream",
          "name": "stdout",
          "text": [
            "SRR5836473.18_18/1\t99\tchr11\t116830009\t0\t139M\t=\t116830059\t190\tTTTATTTTGTTATTGGATTTAGAGATTATTTGGCGGGAATCGGGTTTTTTTTTTTTTTTTTTATAATAGAGTGTCGTAATAGTAAAATTGAGTTTTGATTAGAGTGATTTTGATTTGGTTTCGTTTTTTTTTTCGTTCG\tFKKKKKKKKKKKKKKKK<FKKKKFKKKKKKKKKKKKKFKKKKKKFAFKKKKKKKKKKKKKKKAKFFFFKFF7FFFKFKK7AKKKKKKKKAFKKKKAFKKAFKFK,F<FAKKKAFAFFF,FKKKKKKKKKKKKFF<A77F\tNM:i:37\tMD:Z:0C1C2C0C2C2C6C0C23C0C0C0C0C1C0C0C0C0C2C0C2C4C0T8G2C12C4T1C7C0C4C4C1C4C3C2C3C2\tXM:Z:h.h..hx..h..x......x.............Z......Z...hhhhh.hhhhh..hh..h....x.......Z....x............h......x.......hh....h....h.xZ...h...h..xZ..xZ.\tXR:Z:CT\tXG:Z:CT\n",
            "SRR5836473.18_18/1\t147\tchr11\t116830059\t0\t140M\t=\t116830009\t-190\tTTTTTTTTTTTTATAATAGAGTGTCGTAATAGTAAAATTGAGTTTTGATTAGAGTGATTTTGATTTGGTTTCGTTTTTTTTTTCGTTCGTTTAGTTTTTTTTTTGTAGTTCGAGTTGTTATTTTAGTTGAATTGTTTATT\tKKF<A,KAFA7A7,K77KF<F<A<F<7,,7,7A7,,7AFFFA<,KKKAA<<,7KAF7KKFAA<AKFKKF7<KKKKFKKKKKFFKKFFFKKKKKKKKKFKKKKKKKKFKKFKKKKKKKKKKKKKKKKKKKKKKKKKKKKKF\tNM:i:39\tMD:Z:0C0C0C0C0C2C0C2C4C0T8G2C12C4T1C7C0C4C4C1C4C3C2C3C3C5C0C1C1C2T0C2C0C7C0C2C9C0C3C3\tXM:Z:hhhhh..hh..h....x.......Z....x............h......x.......hh....h....h.xZ...h...h..xZ..xZ..h.....hh.h.h...x..hxZ......hh..h.........xz...h...\tXR:Z:GA\tXG:Z:CT\n",
            "SRR5836473.30_30/1\t99\tchr11\t24232407\t0\t140M\t=\t24232506\t239\tGGTAAGAAGGATATATGTTTAATTATGTTTATAGTAGTTTTATTTATAATAGTTAGAAGTTGGAAAGAATTTAGATGTTTTTCAATAGAGGAATGGATATTAAAAAATGTGGTATATTTATATAATGGAGTATTATTTAG\tKKKKKKKKKKKKKKKKKKKKKKKKKKKKKKKKKKKKKKKKKKKKKKKKKKKKKKKKKKKKKKKKKKKKKKKKKKKKKKKKKKKKKKKKKKKKKKKKKKKKKKKKKKKKKFFKKKKKKKKKKKKKKKKKKKFKKKKKAFKK\tNM:i:29\tMD:Z:0T10C1C3C1C0C1C6C4C2C0C13C0C5C9C0C0C5C0C0C0C4C13C0C13C5C1C12C1C2\tXM:Z:...........h.h...h.h..h......h....x..hh.............hx.....x.........hhx.....hhhh.H..x.............hh.............h.....h.h............h.x..\tXR:Z:CT\tXG:Z:CT\n",
            "SRR5836473.30_30/1\t147\tchr11\t24232506\t0\t140M\t=\t24232407\t-239\tTTAAAAAATGTGGTATATTTATATAATGGAGTATTATTTAGTTATTAAAAAGAATGAATTTATGAAATTTTTAGGTAAATGGATGGATTTGGAGGGTATTATTTTGAGTGAGGTAATTTAATTATAAAAGAATTTATATG\t7AKKKKFFFAA7AKFAKKFKFAKKKKKFA7KKKFAFFAKKKKKKFFKFKKKKKKKKKAKKKKKFKKKKKKKKKKKKKFKKKKKKKKKFKKKKKKKKKKKKKKA<AKFKF<AKKKKKKFKFKKKKKKKKKKKKKKKKKKFF\tNM:i:28\tMD:Z:0C0C13C5C1C12C1C2C27C0C4C0C10C0C7C2C2C0C12C0C0C3C1C7C1C1C1C0A0\tXM:Z:hh.............h.....h.h............h.x..h...........................hh....h...........hx.......h..h..hx............hhh...h.h.......h.h.h.h.\tXR:Z:GA\tXG:Z:CT\n",
            "SRR5836473.39_39/1\t83\tchr11\t105051790\t0\t13M1D127M\t=\t105051789\t-142\tTTAAAAACTACATATACTAATATACTAACAAACAAATAAACCAATAAAATAAAATTAAAAACCCAAAAATAAACCCACACACCTATAATCACTTAATCTTTATCAAAAAAACTAAAACCATCCAATAAAAAAAAAACACC\tKFKKKKKKKKKKKKKKKKKKKKKKKKKKKKKKKKKKKKKKKKKKKKKKKKKKKKKKKKKFKKKKKKKKKKKKFKKKKKFKKKKKKKKKKKKKKKKKKKKKKKKKKKKKKKKKKKKKFKKKKKKKKKKKKKKKKKKKKKKK\tNM:i:31\tMD:Z:0A8G3^G0G4G0G6G3G4G2G6G0G4G4G2G5G4G15G0G6G6G0A3G0G0G1G13G1G0G6G3G1\tXM:Z:.........x...h....xh......x...x....h..h......hh....h....h..h.....x....h...............hh......h......h....hhh.h.............x.hh......h.....\tXR:Z:CT\tXG:Z:GA\n",
            "SRR5836473.39_39/1\t163\tchr11\t105051789\t0\t14M1D126M\t=\t105051790\t142\tATTAAAAACTACATATACTAATATACTAACAAACAAATAAACCAATAAAATAAAATTAAAAACCCAAAAATAAACCCACACACCTATAATCACTTAATCTTTATCAAAAAAACTAAAACCATCCAATAAAAAAAAAACAC\tKKKKKKKKKKKKKKKKKKKKKKKKKKKKKKKKKKKKKKKKKKKKKKKKKKKKKKKKKKKKKKKKKKKKKKKKKKKKKKKKKKKKKKKKKKKKKKKKKKKKFKKKKK<FKA<FKFFKKKKKKKKKFKFKKFK,,<FA,,7<\tNM:i:32\tMD:Z:0G0A8G3^G0G4G0G6G3G4G2G6G0G4G4G2G5G4G15G0G6G6G0A3G0G0G1G13G1G0G6G3G0\tXM:Z:h.........x...h....xh......x...x....h..h......hh....h....h..h.....x....h...............hh......h......h....hhh.h.............x.hh......h....\tXR:Z:GA\tXG:Z:GA\n",
            "SRR5836473.41_41/1\t99\tchr11\t40185837\t0\t140M\t=\t40185875\t178\tAATTTTTTTGGGGATTGTATTGAATTTGTAGATTGTTTTTGGTAAGAGAGTTATTTTTATTATATTGATTTTGTTAATTTATGAATATGGGAGATTTTTTTATTTTTTGAGATTTTTTTTAATTTTTTTTTTTAGAGATT\tKKKKKKKKKKKKKKKFKKKKKKKKKKKKKKFKKKKKKKKKFKKKKKKKKKFKKKKKKKKKKKKKKKKKKKKKKKKKKKKKKKKKKKKKKKKKKKKKKKKKKKKKKKKKKKKKKKKKKKKKKKKKKKKKKKKKKF7<77FF\tNM:i:28\tMD:Z:6G0A9C7C9C6C4T2C0C7C9C0C2C0C3C0C5C9C3C0C2C2C6C2C8C3C2C5C1\tXM:Z:.................h.......x.........h......h.......hh.......h.........hx..hh...hh.....h.........h...hh..h..x......h..h........h...h..x.....h.\tXR:Z:CT\tXG:Z:CT\n",
            "SRR5836473.41_41/1\t147\tchr11\t40185875\t0\t140M\t=\t40185837\t-178\tTTGGTAAGAGAGTTATTTTTATTATATTGATTTTGTTAATTTATGAATATGGGAGATTTTTTTATTTTTTGAGATTTTTTTTAATTTTTTTTTTTAGAGATTTGAAGTTTTTATTATATAGATTTTTTATTTTTTTAGTG\tAKKKKKAAFFFKKKKKKKKKKKKKFFKKKKKKKKKKFAFKKKKKKKKKKKKKKKKKKKKKKKKKKKKKKFKKKKKKKKKKKKFKKKKKKKKKKKKKKKKKKKKKKKKKKKKKKKKKKKKKKKKKKKKKKKKKKKKKKKKK\tNM:i:31\tMD:Z:4C4T2C0C7C9C0C2C0C3C0C5C9C3C0C2C2C6C2C8C3C2C5C8C4C3A4C3C1C2C6T0\tXM:Z:....h.......hh.......h.........hx..hh...hh.....h.........h...hh..h..x......h..h........h...h..x.....h........h....h........h...h.h..h.......\tXR:Z:GA\tXG:Z:CT\n",
            "SRR5836473.46_46/1\t83\tchr11\t22771774\t8\t140M\t=\t22771594\t-320\tCAAATTAAAAAAAAAAAAATAAAAATATCACTTTTTACAAATAATATAATAATATATATAAATAACCCTAAAAATTCTATCACAAAACTCCTAAACCTAATAAACAACTTCAATAAAATAACTAAATATAAAATTAACTC\tKKKKAAKKKKKKKKKKKKKKKKKKKKKKKKKKKKKKKKKKKKKKKKKKKKKKKKKKKKKKKKKKKKKKKKKKKKKKKKKKKKKKKKKKKKKKKKKKKKKKKKKKKKKKKKKKKKKKKKKKKKKKKKKKKKKKKKKKKKKK\tNM:i:26\tMD:Z:6G0G4G2G2G1C15G2G2G4G3G9G1G13C1C2G1G9G3G7G5G1G2G2G2G0G15\tXM:Z:......hh....h..h..h.................h..x..h....h...h.........h.h....................h.........h...x.......x.....x.h..h..h..xh...............\tXR:Z:CT\tXG:Z:GA\n",
            "SRR5836473.46_46/1\t163\tchr11\t22771594\t8\t140M\t=\t22771774\t320\tAGAATAAAAACAATCTACAACAAACCAATAACCAACATCAAAATAAATAATAAAAAACTAAAAACAATCCCACTAAAATCAAAAACTAAACAAAACTACCCACTTTCTCCCTACCTATTCAACATTATACTTAAAATCCT\tFKKKKKKKKKKKKKKKKKKKKKKKKKKKKKKKKKKKKKKKKKKKKKKKKKKKKKKKKKKKKKKKKKKKKKKKKKKKKKKKKAKKKKKKKKKKKKKKKKKKKKKKKKFFKFKKKKKKFKKKKKKK<AKKKKKKFFF7<A<K\tNM:i:25\tMD:Z:1T0G6G9G7G2G11G5G0G1G1G2G2G0G2G17G0G0G4G4G0G2G28G5G2G4\tXM:Z:..h......h.........x.......x..h...........h.....hh.h.h..h..xh..h.................xhh....h....hh..x............................h.....h..h....\tXR:Z:GA\tXG:Z:GA\n",
            "SRR3824222.40_40/1\t99\tchr11\t8735553\t16\t140M\t=\t8735587\t174\tTTAAAGGAGAATTGTTAATTTTAGATTTAGTAAGGTTTAGGTAAGAATTATGTTATTAGTAATATTACGATTTGTGGTTAAAATAGGAGTTGGAAGTTGTTTTTTTTTATTTTTGTTATTTTTATAGTTTGAGGAATTAA\tKKKKKKKKKKKKKKKKKKKKKKKKKKKKKKKKKKKKKKKKKKKKKKKKKKKKKKKKKKKKKKKKKKKKKKKKKKKKKKKKKKKKKKKKK7FKKKKKKKKKKKKKKKKKKKKKKKKKKKKKKKKKKKKKKKKKKKKKKKKK\tNM:i:29\tMD:Z:0C6T5A1C2C0C1C13C0C4C11C8C2C11C11C7C3C0C1C2C2C0C0C8C0C1C2C0C7C3\tXM:Z:h..............h..hh.x.............hh....h...........h........h..h.Z.........h...........x.......z...hh.h..h..hhx........hh.x..hx.......h...\tXR:Z:CT\tXG:Z:CT\n",
            "SRR3824222.40_40/1\t147\tchr11\t8735587\t16\t140M\t=\t8735553\t-174\tGTTTAGGTAAGAATTATGTTATTAGTAATATTACGATTTGTGGTTAAAATAGGAGTTGGAAGTTGTTTTTTTTTATTTTTGTTATTTTTATAGTTTGAGGAATTAAGGATATTTTGTAGTAATAGTAAGGGTGAAAAGTT\tKF<KKKKKKKKKKKKKKKFKKKKKKKKKFFAKKKKKKKKKKKKKKKKKKKKKKKKKKKKKKKKKKKKKKKKKKKKKKKKKKKKKKKKKKKKKKKKKKKKKKKKKKKKKKKKKKKKKKKKKKKKKKKKKKKKKKKKKKKKK\tNM:i:30\tMD:Z:1C0C4C11C8C2C11C11C7C3C0C1C2C2C0C0C8C0C1C2C0C7C6C1C0C3C5C2C12C0C0\tXM:Z:.hh....h...........h........h..h.Z.........h...........x.......z...hh.h..h..hhx........hh.x..hx.......h......h.hh...x.....x..h............hx\tXR:Z:GA\tXG:Z:CT\n",
            "SRR3824222.42_42/1\t99\tchr11\t8735518\t0\t140M\t=\t8735603\t225\tAATTAGTATGTATAGTTTTGAGTATTGTGTAGTTTTTAAAGGAGAATTGTTAATTTTAGATTTAGTAAGGTTTAGGAAAGAATTATGTTATTAGTAATATTACGATTTGTGGTTAAAATAGGAGTTGGAAGTCGTTTTTT\tKKKKKKKKKKKKKKKKKKKKKKFFKKKKKKKKKKKKKKKKKKKKKKKKKKKKKKKKKKKKKKKKKKKKKKKKKKKKKKKKKKKFKKKKKKKKKKKKKKKKKKKKKKKKKAKKKKKKKKKKKKKKFKKKKKK7AK<FKKKF\tNM:i:28\tMD:Z:2C0C1C4C1C4C6C4C2C1C0C6T5A1C2C0C1C13C0C4C11C8C2C11C11C11C0C1C0\tXM:Z:..hh......h.x....x......x....x..h.hh..............h..hh.x.............hh................h........h..h.Z.........h...........x.......Z...hh.h\tXR:Z:CT\tXG:Z:CT\n",
            "SRR3824222.42_42/1\t147\tchr11\t8735603\t0\t140M\t=\t8735518\t-225\tTGTTATTAGTAATATTACGATTTGTGGTTAAAATAGGAGTTGGAAGTCGTTTTTTTTTATTTTTGTTATTTTTATAGTTTGAGGAATTAAGGATATTTTTTAGTAATAGTAAGGGTGAAAAGTTAGAGGTTATTTAAGGG\t<FAKKKKKKKKKAKKKKKKFKKKKKKFFAAFAFAKKKKKKFKKKKKKKKFKKKKKKKFKKKKKKKKKKKKKKKKKKKKKKKKKKKKFKKKKKKKKKFKKKFKKKKKKKKKKKKKKKKKKKKKKKKKKKKKKKKKKKKKKK\tNM:i:31\tMD:Z:3C8C2C11C11C11C0C1C2C2C0C0C8C0C1C2C0C7C6C1C0C2G0C5C2C12C0C5C0C1G0C6\tXM:Z:...h........h..h.Z.........h...........x.......Z...hh.h..h..hhx........hh.x..hx.......h......h.hh...x.....x..h............hx.....hx..h......\tXR:Z:GA\tXG:Z:CT\n",
            "SRR3824222.52_52/1\t99\tchr11\t58717111\t23\t140M\t=\t58717131\t160\tTAAAAAATATTTACGGTTTTGTTTTTTTTTTTTAAAAGATATTAAGAGTTATAGGTGTGGGTCGTGATAGTATTTACGGGAGGAATCGGGTTAATGTTTATTTAAGTTAAGGTTAAAAGTTTATTTATTTATGGATGAGA\tKKKKKKKKKKKKKKKKKKKKKKKKKKKKKKKKKKKKKKKKKKKKKKKKAFKKKKKKKKKKKKKFKKKKKKKKKKKKKKKKFKKKKKKKKK,FKKKKKKKKKKKKKKKKKKKKKKKKKKKFKKFKKKKKKKKKKKKKKKFK\tNM:i:39\tMD:Z:0C0C8C2A2C1C2C0C1C0C0C0C2C0C0C8C0C5C0C1C18C1C0C0C14A1C5C0C1C0C0C3C0C11C0C0C1C1C2C11\tXM:Z:h.........h.....h.x..hh.hhhh..hhh........hh.....hh.x..........Z.......h.hhh.Z.........Z....h.....hh.hhh...hh...........hhh.h.h..h...........\tXR:Z:CT\tXG:Z:CT\n",
            "SRR3824222.52_52/1\t147\tchr11\t58717131\t23\t140M\t=\t58717111\t-160\tGTTTTTTTTTTTTAAAAGATATTAAGAGTTATAGGTGTGGGTCGTGATAGTATTTACGGGAGGAATCGGGTTAATGTTTATTTAAGTTAAGGTTAAAAGTTTATTTATTTATGGATGAGAAAATTATTTGATTATTTTAG\t<7<,F<FFKF<<AAAKKF<<KFA,FFFKKFA,KKKKFFKFKFKKKKFKFKFAAAFAAKKKKKKKF,FKKKFKKKKKKKKKKKKKKKKKKKKKKKKKKKKKKKKKKKKKKKKKKKKKKKKKKKKKKKKKKKKKKKKKKFFF\tNM:i:38\tMD:Z:1C0C1C0C0C0C2C0C0C8C0C5C0C1C18C1C0C0C14A1C5C0C1C0C0C3C0C11C0C0C1C1C2C15C7C1C0C1C2\tXM:Z:.hh.hhhh..hhh........hh.....hh.x..........Z.......h.hhh.Z.........Z....h.....hh.hhh...hh...........hhh.h.h..h...............h.......h.hh.x..\tXR:Z:GA\tXG:Z:CT\n",
            "SRR3824222.56_56/1\t99\tchr11\t87478638\t0\t140M\t=\t87478712\t212\tATAGTACGGTTTTTAATTTCTTTTTTTTTTATTAATTAAGTTTAATAAGGTAATGTTAAATTGAGGTGATTAAATGATTTTTTTATTCGTAGATGAGTGGGTTTTTAATTTTGGTTTGGGTGGACATTGATTTGATTTTT\tKKKKKKKKKKKKKKKKKKKKKKKKKKKKKKKKKKKKKKKKKKKKKKKKKKKKKKKKKKKKKKKKKKKKKKKKKKKKKKKKKKKKKKKKKFKKKKKKKAKKKK7<FKKKKKKKKKFAKKKKAKKFFKKKFFKKKFFAA,A7\tNM:i:32\tMD:Z:1C8C1C0C2C0C3C1C0C0C0C0C0C21C2C1C1T2C9C12C2C0T13C1A4C0C4C15C0C0C4C0C1\tXM:Z:.x....Z...h.hh..hh.H.h.hhhhhh.....................h..z.h....x.........h............h..x..............h......hh....h.........H.....hxz....hh.\tXR:Z:CT\tXG:Z:CT\n",
            "SRR3824222.56_56/1\t147\tchr11\t87478712\t0\t138M\t=\t87478638\t-212\tTGATTTTTTTATTCGTAGATGAGTGGGTTTTTAATTTTGGTTTGGGTGGACATTGATTTGATTTTTTTTGTGGGTGTTGTTACGATTTATATTTGTGGTTTTTGGTATTTTTTGGGGAGGGGAGGGAGAGTTATAGAT\tAFAFKFAKKKKKFKKAKKKKKKFKAAKF<FA<AFFKKKKKKAKKKKKKKKKKKKKKKKKKKKKKKKKKKFAFKF7FKKKKKKKKK7KKKKKKKKKKKKKKKKKKKKKKKKKKKKKKKFF<FKA,F,KKKKKKKKKKKF\tNM:i:31\tMD:Z:9C2C0T13C1A4C0C4C15C0C0C4C0C1C0C0C7C3C4C0C0C1C1C0C5C1C7C16C4C0C0T5\tXM:Z:.........h..x..............h......hh....h.........H.....hxz....hh.hxz.......x...h.Z..hhh.h.hx.....h.h.......h.....................hh......\tXR:Z:GA\tXG:Z:CT\n",
            "SRR3824222.65_65/1\t83\tchr11\t28372568\t0\t140M\t=\t28372555\t-153\tCAACTCAATATTATTCTTAATAAAATATATTTCAAATTTATTCAATCAAACTTAACCAAAATTCCAACGTCCTACTTAAAATTCAACTAAAAAATTACCTATTCAACACAAATTAACATTATAAAATCAAAACTTTCTAC\tKKFKKKKKKKKKKKKKKKKKKKKKKKKKKKKKKKKKKKKKKKKKKKKKKKKKKKKKKKKKKKKKKKFKKKKKKKKKKKKKKKKKKKKKKKKKKKKKKKKKKKKKKKKKKKKKKKKKKKKKKKKKKKKKKKKKKKKKKKKK\tNM:i:23\tMD:Z:7G1G14G1G12G4G9G3G0G0G8C19G0G2G11G3T5G9G3G1G1C1A2G1\tXM:Z:.......x.h..............h.h............h....x.........h...xhh.......Z....................hh..h...........x.........h.........h...x.h......x.\tXR:Z:CT\tXG:Z:GA\n",
            "SRR3824222.65_65/1\t163\tchr11\t28372555\t0\t140M\t=\t28372568\t153\tTACGAAAAAATATCAACTCAATATTATTCTTAATAAAATATATTTCAAATTTATTCAATCAAACTTAACCAAAATTCCAACGTCCTACTTAAAATTCAACTAAAAAATTACCTATTCAACACAAATTAACATTATAAAAT\tKKKKKKKKKKKKKKKKKKKKKKKKKKKKKKKKKKKKKKKKKKKKKKKKKKKKKKKKKKKKKKKKKKKKKKKKKKKKKKKKKKFKKKKKKKKKKKKKKKKKKKKKKKKKKKKKKKKKKFFKKKFKKKFKKKKKKKKKKKKA\tNM:i:23\tMD:Z:1G0T1G1G0G12G1G14G1G12G4G9G3G0G0G8C19G0G2G11G3T5G9G1\tXM:Z:.h.Hh.hh............x.h..............h.h............h....x.........h...xhh.......Z....................hh..h...........x.........h.........h.\tXR:Z:GA\tXG:Z:GA\n",
            "SRR5836475.1_1/1\t83\tchr11\t27610910\t0\t140M\t=\t27610897\t-153\tTTTACAAAAAATTTAAAACAAATAAAATAAAAACAAAATAAACCTTTAATAACCTTAAAAAAAATAACTACCCCTCTTTTATTTTAAAAAACCAATTCTTTAAAATACAATAAACACATTCAACTATTCCTTATCCCATA\tFFKKAKAKKKKKKKKKKKKKKKKKKFKKKKKKKKKFAKKKKKKKKKKKKKKKKKKKKKKKKKKKKKKKKKKKKKKKKKKKKKKKKKKKKKKKKKKKKKKKKKKKKKKKKKKKKKKKKKKKKKKKKKKKKKKKKKKKKKKK\tNM:i:39\tMD:Z:1G1G3G7G0G8G0G1G2G0G3G0G1G0G0G5G0G1G5G0G0G0G0G1T3G2G10G1C5G1G12G0G1G1G2G1G3G14G6G0\tXM:Z:...h...h.......hh........hh.h..hh...hh.hhh.....hh.h.....hhhhh.....h..x..........h.......h.h............hh.h.z..h.h...z..............h......h\tXR:Z:CT\tXG:Z:GA\n",
            "SRR5836475.1_1/1\t163\tchr11\t27610897\t0\t140M\t=\t27610910\t153\tCCTTTAATATCAATTTACAAAAAATTTAAAACAAATAAAATAAAAACAAAATAAACCTTTAATAACCTTAAAAAAAATAACTACCCCTCTTTTATTTTAAAAAACCAATTCTTTAAAATACAATAAACACATTCAACTAT\tFFKKKKKKKKKKKKKKKKKKKKKKKKKKKKKKKKKKKKKKKKKKKKKKKKKKKKKKKKKKKKKKKKKKKKKKKKKKKFKKKKKKKKKKKFKKKKKKKKKKKKAKKKKFKKKFFKKKKKFKKAAKKKAFAAFKKKF<AKKK\tNM:i:41\tMD:Z:2C2G5G0G1G1G3G7G0G8G0G1G2G0G3G0G1G0G0G5G0G1G5G0G0G0G0G1T3G2G10G1C5G1G12G0G1G1G2G1G3G9\tXM:Z:.....h.....zx...h...h.......hh........hh.h..hh...hh.hhh.....hh.h.....hhhhh.....h..x..........h.......h.h............hh.h.z..h.h...z.........\tXR:Z:GA\tXG:Z:GA\n",
            "SRR5836475.28_28/1\t83\tchr11\t58716819\t0\t140M\t=\t58716800\t-159\tAATAACAAAAATAAAAAAAAACAACTTCCAACTCCTATTTTAACCACAAATCATAATATTACTAATAACATAATTCTTACCTAAACCTTACTAAATCTAAAATTAACAATTCTCCTTTAAAAACTACACAATACTCAAAA\tKKKKKKKKKKKFKKKKKKKKKFAKKKKKKFAKKKKKKKKKKKKKKKKKKKKKKKKKKKKKKKKKKKKKKKKKKKKKKKKKKKKKKKKKKKKKKKKKKKKKKKKKKKKKKKKKKKKKKKKKKKKKKKKKKKKKKKKKKKKK\tNM:i:28\tMD:Z:7G1G2G1G0G1G0G3G7G11G11G0G1G8G11G0T3G0G4G8G2G2G14G0G1G2G4G6G2\tXM:Z:.......x.h..h.hh.hh...z.......x...........h...........hh.h........h...........h....hh....h........x..h..h..............hh.h..x....x......x..\tXR:Z:CT\tXG:Z:GA\n",
            "SRR5836475.28_28/1\t163\tchr11\t58716800\t0\t140M\t=\t58716819\t159\tAAGATCCTCAAACTATAAAAATAACAAAAATAAAAAAAAACAACTTCCAACTCCTATTTTAACCACAAATCATAATATTACTAATAACATAATTCTTACCTAAACCTTACTAAATCTAAAATTAACAATTCTCCTTTAAA\tKKKFKKKKKKKKKKKKKKKKKKKKKKKKKKKKKKKKKKKKKKKKKKKKKKFKKKKKKKKKKKKKKKKKKKKKKKKKKKKKKKKKKKKKKKFKKKFFKAKKK7FFFKKKKKKFAA<FKAFKKKFKFF<AAFKKKKKKKFA<\tNM:i:32\tMD:Z:0T2T6G0G2G1G0G0G7G1G2G1G0G1G0G3G7G11G11G0G1G8G11G0T3G0G4G8G2G2G14G0G0\tXM:Z:..H.......xh..x.hhh.......x.h..h.hh.hh...z.......x...........h...........hh.h........h...........h....hh....h........x..h..h..............hh\tXR:Z:GA\tXG:Z:GA\n",
            "SRR5836475.64_64/1\t99\tchr11\t43166397\t0\t140M\t=\t43166396\t141\tATAAAGTTTGTAAGATTAATGGGTTTTTTTTTTTATTGATGGTTGATTAGGTTATTTTTTGATATATATGTAGTTAGAGATTTGAGTTTTGGGGGGTATTGGTTAGTTTATAATGTTGTTTTATTTATAGGGTTGTAGAT\tKKKKKKFKKKKKKKKKKKKKKKKFKKKKKKKKKKKKKKKKKKKKKKKKKKKKKKKKKKKKKKFKKKKKAKKKKKKKKKKKKKKKKKFKKKKKKKKK,<FFKKFKFFKFKKKKKFFKFFFKKKFKKKAKKFKAF7,7AAFK\tNM:i:33\tMD:Z:10C1C2C0C6C0C1C1C3C0C1C6C0C2C4C0C2C2C5C5C2C6C0A4C1C9C9C3T7C0C1C0C10C4\tXM:Z:..........h....hh......hh.h.h...hh.x......xz..h....hh..h..x.....h.....x..h......h.....h.x.........x.........h...........hh.hh..........x....\tXR:Z:CT\tXG:Z:CT\n",
            "SRR5836475.64_64/1\t147\tchr11\t43166396\t0\t140M\t=\t43166397\t-141\tTATAAAGTTTGTAAGATTAATGGGTTTTTTTTTTTATTGATGGTTGATTAGGTTATTTTTTGATATATATGTAGTTAGAGATTTGAGTTTTGGGGGGTATTGGTTAGTTTATAATGTTGTTTTATTTATAGGGTTGTAGA\tKKAAFFKF<<A7FKKKKKKKFAKKKKFKKKKKKKKKKKKKKKKKFKKKKKKKKKKKKKKKKKKKKKKKKKKKKKKKKKKKKKKKKKKKKKKKKKKKKKKKKKKKKKKKKKKKKKKKKKKKKKKKKKKKKKKKKKKKKKKK\tNM:i:33\tMD:Z:11C1C2C0C6C0C1C1C3C0C1C6C0C2C4C0C2C2C5C5C2C6C0A4C1C9C9C3T7C0C1C0C10C3\tXM:Z:...........h....hh......hh.h.h...hh.x......xz..h....hh..h..x.....h.....x..h......h.....h.x.........x.........h...........hh.hh..........x...\tXR:Z:GA\tXG:Z:CT\n",
            "SRR5836475.86_86/1\t83\tchr11\t71167245\t0\t140M\t=\t71167203\t-182\tCTTCTTACCAATTAAAACATCTTCTAAATATATACCCAAAAAAAATATTACTAAATCCTCCAATAATACTATATCCAATTTTCTAAAAAAATACCAAAATAATTTAAAAAATAATTATACAAACTTACAATCCCACCAAC\t<FAAA7KKKKKKFA,FAF<FAFKAKKKKKKKFKFFAFKKKKKKKKKKKKFFKKKKKKKKKKKKKKFKKKKKKKKKFKKKKKKKKKKKKKKKKKKKKKKKKKKKKKKKKKKKKKKKKKKKKKKKKKKKKKKKKKFAKKKKK\tNM:i:36\tMD:Z:10G2G0G0G0G8G0G6G4G0G1G1G0G4G2G0G8G2G6G11G1G0G2C1G3G1C1G4C0C1G1G1G0G2G5G3G13\tXM:Z:..........x..hhhh........xh......h....xh.h.hh....h..xh........x..h......h...........x.hh....x...x...x.......x.h.hh..h.....h...h.............\tXR:Z:CT\tXG:Z:GA\n",
            "SRR5836475.86_86/1\t163\tchr11\t71167203\t0\t140M\t=\t71167245\t182\tTATTATAAATAAAACTACTATAAACATAATTAAACATATATCCTTCTTACCAATTAAAACATCTTCTAAATATATACCCAAAAAAAATATTACTAAATCCTCCAATAATACTATATCCAATTTTCTAAAAAAATACCACA\tKKKKKKKKKKKKKKKKKKKKKKKKKKKKKKKKKKKKKKKKKKAKKKKKKKKKKKKKKKKKKKKKKKKKKKKKKKFKFFKKKKFKKKFFFFKFKKFF<FF<FFKA<A7AF,AA77AFFF,A<<<AF<A7,<<AKA7<7,,7\tNM:i:36\tMD:Z:9A2G0G2G4G6G1G0G1G3G1G12G2G0G0G0G8G0G6G4G0G1G1G0G4G2G0G8G2G6G11G1G0G2C1G3G1\tXM:Z:............hh..x....h......h..h.h...h.h............x..hhhh........xh......h....xh.h.hh....h..xh........x..h......h...........x.hh....x.....\tXR:Z:GA\tXG:Z:GA\n",
            "SRR5836475.89_89/1\t99\tchr11\t7397034\t0\t140M\t=\t7397045\t151\tTTGTTGTTATTTGGAATTTTGATTTTAGTTATTTTGATTGGTGTGTGATGGAATTTTAGGGTTGTTTTGATTTGTATTTTTTTGATGATTAAGGATGTTGAATATTTTTTTAGGTGTTTTTTAGATATTTGGTATTTTTT\tKKKKKKKKKKKKKKKKKKKKKKKKKKKKAFKKKKKKKKFKKKKKKKKKKKKFKKKKKKKKF7FFAFKKKKKKFF<KKKKKKKKKKKKK,KKAKKKKKKKKKKKKKKKKKKKKKKKKAAKKKKKKFKKKKKKKKKKKKKKK\tNM:i:30\tMD:Z:0C2C3C1C0C2A1T7C4C0C3C3C7A8C1C17C4C0C0C15C4C7C8C1C2C0C3C6C0C1C0\tXM:Z:x..x...h.hx............h....hh...x...x................h.x.................h....hhx...............x....h.......x........h.x...h...z......hh.x\tXR:Z:CT\tXG:Z:CT\n",
            "SRR5836475.89_89/1\t147\tchr11\t7397045\t0\t140M\t=\t7397034\t-151\tTGGAATTTTGATTTTAGTTATTTTGATTGGTGTGTGATGGAATTTTAGGGTTGTTTTGATTTGTATTTTTTTGATGATTAAGGATGTTGAATATTTTTTTAGGTGTTTTTTAGATATTTGGTATTTTTTAGGTGAGAACC\tF<AAFKA7KF<KKA<7A<,AFKFKKKKFKKAKKKFKKKKKKK<FAKKFFKKKFKKAAFAFAKFF<7KF7KKKKKKKKKKKKKKKKKKAKAKK<KFFKKKKKAKFFKKKKKKKF,KKFKKKKKKFFKKF,<AFAA,F,F,,\tNM:i:27\tMD:Z:2A1T7C4C0C3C3C7A8C1C17C4C0C0C15C4C7C8C1C2C0C3C6C0C1C9T0T0\tXM:Z:............h....hh...x...x................h.x.................h....hhx...............x....h.......x........h.x...h...z......hh.x...........\tXR:Z:GA\tXG:Z:CT\n"
          ]
        }
      ]
    },
    {
      "cell_type": "code",
      "source": [
        "! samtools sort SRR5836473_1_bismark_bt2_pe.bam -o sorted_8cell.bam\n",
        "! samtools sort SRR3824222_1_bismark_bt2_pe.bam -o sorted_epiblast.bam\n",
        "! samtools sort SRR5836475_1_bismark_bt2_pe.bam -o sorted_icm.bam"
      ],
      "metadata": {
        "id": "74B4zBAsl_Nw",
        "colab": {
          "base_uri": "https://localhost:8080/"
        },
        "outputId": "38baed81-283d-4d4c-ad79-180f2f65026e"
      },
      "execution_count": 74,
      "outputs": [
        {
          "output_type": "stream",
          "name": "stdout",
          "text": [
            "[bam_sort_core] merging from 5 files...\n",
            "[bam_sort_core] merging from 11 files...\n",
            "[bam_sort_core] merging from 7 files...\n"
          ]
        }
      ]
    },
    {
      "cell_type": "code",
      "source": [
        "! samtools index  sorted_8cell.bam\n",
        "! samtools index  sorted_epiblast.bam\n",
        "! samtools index  sorted_icm.bam"
      ],
      "metadata": {
        "id": "brd-8IqJl_zv"
      },
      "execution_count": 75,
      "outputs": []
    },
    {
      "cell_type": "markdown",
      "source": [
        "Сколько ридов закартировалось на регион 58717111-58917111 в образце 8-cell?"
      ],
      "metadata": {
        "id": "blI5DJSQmEBx"
      }
    },
    {
      "cell_type": "code",
      "source": [
        "! samtools view sorted_8cell.bam chr11:58717111-58917111 | cut -f1 | sort -u | wc -l"
      ],
      "metadata": {
        "id": "aRlt5x02mGea",
        "colab": {
          "base_uri": "https://localhost:8080/"
        },
        "outputId": "8fd592fc-0b12-428c-9a65-7a30679351fa"
      },
      "execution_count": 76,
      "outputs": [
        {
          "output_type": "stream",
          "name": "stdout",
          "text": [
            "2744\n"
          ]
        }
      ]
    },
    {
      "cell_type": "markdown",
      "source": [
        "Число ридов, закартированных на участки 11347700-11367700; 40185800-40195800"
      ],
      "metadata": {
        "id": "-xHQk2urnwgE"
      }
    },
    {
      "cell_type": "code",
      "source": [
        "! samtools view sorted_8cell.bam chr11:11347700-11367700 | cut -f1 | sort -u | wc -l\n",
        "! samtools view sorted_8cell.bam chr11:40185800-40195800 | cut -f1 | sort -u | wc -l"
      ],
      "metadata": {
        "colab": {
          "base_uri": "https://localhost:8080/"
        },
        "id": "NOF4JcQ0nx9b",
        "outputId": "bf35fa8a-695b-443c-9ce1-3d18ccc53ed1"
      },
      "execution_count": 79,
      "outputs": [
        {
          "output_type": "stream",
          "name": "stdout",
          "text": [
            "1090\n",
            "464\n"
          ]
        }
      ]
    },
    {
      "cell_type": "code",
      "source": [
        "! samtools view sorted_epiblast.bam chr11:11347700-11367700 | cut -f1 | sort -u | wc -l\n",
        "! samtools view sorted_epiblast.bam chr11:40185800-40195800 | cut -f1 | sort -u | wc -l"
      ],
      "metadata": {
        "colab": {
          "base_uri": "https://localhost:8080/"
        },
        "id": "Mt0ft0Xvn5WB",
        "outputId": "3de87b1d-fe23-44a3-9364-4b744553a9ab"
      },
      "execution_count": 80,
      "outputs": [
        {
          "output_type": "stream",
          "name": "stdout",
          "text": [
            "2328\n",
            "1062\n"
          ]
        }
      ]
    },
    {
      "cell_type": "code",
      "source": [
        "! samtools view sorted_icm.bam chr11:11347700-11367700 | cut -f1 | sort -u | wc -l\n",
        "! samtools view sorted_icm.bam chr11:40185800-40195800 | cut -f1 | sort -u | wc -l"
      ],
      "metadata": {
        "colab": {
          "base_uri": "https://localhost:8080/"
        },
        "id": "1ECVMH51n9F2",
        "outputId": "42274707-a68a-4a6b-fa0a-90c8b1ceb2b0"
      },
      "execution_count": 81,
      "outputs": [
        {
          "output_type": "stream",
          "name": "stdout",
          "text": [
            "1456\n",
            "630\n"
          ]
        }
      ]
    },
    {
      "cell_type": "code",
      "source": [
        "import pandas as pd\n",
        "df = pd.DataFrame({\n",
        "        'Образцы WGBS': ['8cell', 'epiblast', 'ICM'],\n",
        "        '11347700-11367700': [1090, 2328, 1456],\n",
        "        '40185800-40195800': [464, 1062, 630]\n",
        "     })\n",
        "df"
      ],
      "metadata": {
        "colab": {
          "base_uri": "https://localhost:8080/",
          "height": 143
        },
        "id": "freXAk4Kn5jW",
        "outputId": "a0c00ab8-7196-49a4-85de-0e6d33f8e945"
      },
      "execution_count": 84,
      "outputs": [
        {
          "output_type": "execute_result",
          "data": {
            "text/html": [
              "\n",
              "  <div id=\"df-4759172c-b433-41b9-a434-9ec18264f968\">\n",
              "    <div class=\"colab-df-container\">\n",
              "      <div>\n",
              "<style scoped>\n",
              "    .dataframe tbody tr th:only-of-type {\n",
              "        vertical-align: middle;\n",
              "    }\n",
              "\n",
              "    .dataframe tbody tr th {\n",
              "        vertical-align: top;\n",
              "    }\n",
              "\n",
              "    .dataframe thead th {\n",
              "        text-align: right;\n",
              "    }\n",
              "</style>\n",
              "<table border=\"1\" class=\"dataframe\">\n",
              "  <thead>\n",
              "    <tr style=\"text-align: right;\">\n",
              "      <th></th>\n",
              "      <th>Образцы WGBS</th>\n",
              "      <th>11347700-11367700</th>\n",
              "      <th>40185800-40195800</th>\n",
              "    </tr>\n",
              "  </thead>\n",
              "  <tbody>\n",
              "    <tr>\n",
              "      <th>0</th>\n",
              "      <td>8cell</td>\n",
              "      <td>1090</td>\n",
              "      <td>464</td>\n",
              "    </tr>\n",
              "    <tr>\n",
              "      <th>1</th>\n",
              "      <td>epiblast</td>\n",
              "      <td>2328</td>\n",
              "      <td>1062</td>\n",
              "    </tr>\n",
              "    <tr>\n",
              "      <th>2</th>\n",
              "      <td>ICM</td>\n",
              "      <td>1456</td>\n",
              "      <td>630</td>\n",
              "    </tr>\n",
              "  </tbody>\n",
              "</table>\n",
              "</div>\n",
              "      <button class=\"colab-df-convert\" onclick=\"convertToInteractive('df-4759172c-b433-41b9-a434-9ec18264f968')\"\n",
              "              title=\"Convert this dataframe to an interactive table.\"\n",
              "              style=\"display:none;\">\n",
              "        \n",
              "  <svg xmlns=\"http://www.w3.org/2000/svg\" height=\"24px\"viewBox=\"0 0 24 24\"\n",
              "       width=\"24px\">\n",
              "    <path d=\"M0 0h24v24H0V0z\" fill=\"none\"/>\n",
              "    <path d=\"M18.56 5.44l.94 2.06.94-2.06 2.06-.94-2.06-.94-.94-2.06-.94 2.06-2.06.94zm-11 1L8.5 8.5l.94-2.06 2.06-.94-2.06-.94L8.5 2.5l-.94 2.06-2.06.94zm10 10l.94 2.06.94-2.06 2.06-.94-2.06-.94-.94-2.06-.94 2.06-2.06.94z\"/><path d=\"M17.41 7.96l-1.37-1.37c-.4-.4-.92-.59-1.43-.59-.52 0-1.04.2-1.43.59L10.3 9.45l-7.72 7.72c-.78.78-.78 2.05 0 2.83L4 21.41c.39.39.9.59 1.41.59.51 0 1.02-.2 1.41-.59l7.78-7.78 2.81-2.81c.8-.78.8-2.07 0-2.86zM5.41 20L4 18.59l7.72-7.72 1.47 1.35L5.41 20z\"/>\n",
              "  </svg>\n",
              "      </button>\n",
              "      \n",
              "  <style>\n",
              "    .colab-df-container {\n",
              "      display:flex;\n",
              "      flex-wrap:wrap;\n",
              "      gap: 12px;\n",
              "    }\n",
              "\n",
              "    .colab-df-convert {\n",
              "      background-color: #E8F0FE;\n",
              "      border: none;\n",
              "      border-radius: 50%;\n",
              "      cursor: pointer;\n",
              "      display: none;\n",
              "      fill: #1967D2;\n",
              "      height: 32px;\n",
              "      padding: 0 0 0 0;\n",
              "      width: 32px;\n",
              "    }\n",
              "\n",
              "    .colab-df-convert:hover {\n",
              "      background-color: #E2EBFA;\n",
              "      box-shadow: 0px 1px 2px rgba(60, 64, 67, 0.3), 0px 1px 3px 1px rgba(60, 64, 67, 0.15);\n",
              "      fill: #174EA6;\n",
              "    }\n",
              "\n",
              "    [theme=dark] .colab-df-convert {\n",
              "      background-color: #3B4455;\n",
              "      fill: #D2E3FC;\n",
              "    }\n",
              "\n",
              "    [theme=dark] .colab-df-convert:hover {\n",
              "      background-color: #434B5C;\n",
              "      box-shadow: 0px 1px 3px 1px rgba(0, 0, 0, 0.15);\n",
              "      filter: drop-shadow(0px 1px 2px rgba(0, 0, 0, 0.3));\n",
              "      fill: #FFFFFF;\n",
              "    }\n",
              "  </style>\n",
              "\n",
              "      <script>\n",
              "        const buttonEl =\n",
              "          document.querySelector('#df-4759172c-b433-41b9-a434-9ec18264f968 button.colab-df-convert');\n",
              "        buttonEl.style.display =\n",
              "          google.colab.kernel.accessAllowed ? 'block' : 'none';\n",
              "\n",
              "        async function convertToInteractive(key) {\n",
              "          const element = document.querySelector('#df-4759172c-b433-41b9-a434-9ec18264f968');\n",
              "          const dataTable =\n",
              "            await google.colab.kernel.invokeFunction('convertToInteractive',\n",
              "                                                     [key], {});\n",
              "          if (!dataTable) return;\n",
              "\n",
              "          const docLinkHtml = 'Like what you see? Visit the ' +\n",
              "            '<a target=\"_blank\" href=https://colab.research.google.com/notebooks/data_table.ipynb>data table notebook</a>'\n",
              "            + ' to learn more about interactive tables.';\n",
              "          element.innerHTML = '';\n",
              "          dataTable['output_type'] = 'display_data';\n",
              "          await google.colab.output.renderOutput(dataTable, element);\n",
              "          const docLink = document.createElement('div');\n",
              "          docLink.innerHTML = docLinkHtml;\n",
              "          element.appendChild(docLink);\n",
              "        }\n",
              "      </script>\n",
              "    </div>\n",
              "  </div>\n",
              "  "
            ],
            "text/plain": [
              "  Образцы WGBS  11347700-11367700  40185800-40195800\n",
              "0        8cell               1090                464\n",
              "1     epiblast               2328               1062\n",
              "2          ICM               1456                630"
            ]
          },
          "metadata": {},
          "execution_count": 84
        }
      ]
    },
    {
      "cell_type": "markdown",
      "source": [
        "Дедупликация"
      ],
      "metadata": {
        "id": "fiDPcFkzmIt9"
      }
    },
    {
      "cell_type": "code",
      "source": [
        "! deduplicate_bismark  --bam  --paired  -o s_8_cell  SRR5836473_1_bismark_bt2_pe.bam"
      ],
      "metadata": {
        "id": "V6u9riF2mJc7",
        "colab": {
          "base_uri": "https://localhost:8080/"
        },
        "outputId": "8e696ac0-de56-465a-a349-15c4922ab015"
      },
      "execution_count": 85,
      "outputs": [
        {
          "output_type": "stream",
          "name": "stdout",
          "text": [
            "Output filename was given as: s_8_cell\n",
            "Processing paired-end Bismark output file(s) (SAM format):\n",
            "SRR5836473_1_bismark_bt2_pe.bam\n",
            "\n",
            "\n",
            "If there are several alignments to a single position in the genome the first alignment will be chosen. Since the input files are not in any way sorted this is a near-enough random selection of reads.\n",
            "\n",
            "Checking file >>SRR5836473_1_bismark_bt2_pe.bam<< for signs of file truncation...\n",
            "\n",
            "\n",
            "\n",
            "Now testing Bismark result file SRR5836473_1_bismark_bt2_pe.bam for positional sorting (which would be bad...)\t...passed!\n",
            "Output file is: s_8_cell.deduplicated.bam\n",
            "\n",
            "skipping header line:\t@HD\tVN:1.0\tSO:unsorted\n",
            "skipping header line:\t@SQ\tSN:chr11\tLN:122082543\n",
            "skipping header line:\t@PG\tID:Bismark\tVN:v0.23.1dev\tCL:\"bismark -p 2 --gzip mouse_chr -1 data/SRR5836473_1.fastq.gz -2 data/SRR5836473_2.fastq.gz -o cell8/\"\n",
            "\n",
            "Total number of alignments analysed in SRR5836473_1_bismark_bt2_pe.bam:\t2850231\n",
            "Total number duplicated alignments removed:\t521904 (18.31%)\n",
            "Duplicated alignments were found at:\t230432 different position(s)\n",
            "\n",
            "Total count of deduplicated leftover sequences: 2328327 (81.69% of total)\n",
            "\n"
          ]
        }
      ]
    },
    {
      "cell_type": "code",
      "source": [
        "! deduplicate_bismark  --bam  --paired  -o s_epiblast  SRR3824222_1_bismark_bt2_pe.bam"
      ],
      "metadata": {
        "colab": {
          "base_uri": "https://localhost:8080/"
        },
        "id": "xNKBHuiMprm_",
        "outputId": "029f6e35-8c3e-4315-abea-f2affe6cf74e"
      },
      "execution_count": 86,
      "outputs": [
        {
          "output_type": "stream",
          "name": "stdout",
          "text": [
            "Output filename was given as: s_epiblast\n",
            "Processing paired-end Bismark output file(s) (SAM format):\n",
            "SRR3824222_1_bismark_bt2_pe.bam\n",
            "\n",
            "\n",
            "If there are several alignments to a single position in the genome the first alignment will be chosen. Since the input files are not in any way sorted this is a near-enough random selection of reads.\n",
            "\n",
            "Checking file >>SRR3824222_1_bismark_bt2_pe.bam<< for signs of file truncation...\n",
            "\n",
            "\n",
            "\n",
            "Now testing Bismark result file SRR3824222_1_bismark_bt2_pe.bam for positional sorting (which would be bad...)\t...passed!\n",
            "Output file is: s_epiblast.deduplicated.bam\n",
            "\n",
            "skipping header line:\t@HD\tVN:1.0\tSO:unsorted\n",
            "skipping header line:\t@SQ\tSN:chr11\tLN:122082543\n",
            "skipping header line:\t@PG\tID:Bismark\tVN:v0.23.1dev\tCL:\"bismark -p 2 --gzip mouse_chr -1 data/SRR3824222_1.fastq.gz -2 data/SRR3824222_2.fastq.gz -o epiblast/\"\n",
            "\n",
            "Total number of alignments analysed in SRR3824222_1_bismark_bt2_pe.bam:\t7039016\n",
            "Total number duplicated alignments removed:\t205258 (2.92%)\n",
            "Duplicated alignments were found at:\t164796 different position(s)\n",
            "\n",
            "Total count of deduplicated leftover sequences: 6833758 (97.08% of total)\n",
            "\n"
          ]
        }
      ]
    },
    {
      "cell_type": "code",
      "source": [
        "! deduplicate_bismark  --bam  --paired  -o s_icm  SRR5836475_1_bismark_bt2_pe.bam"
      ],
      "metadata": {
        "colab": {
          "base_uri": "https://localhost:8080/"
        },
        "id": "i65bOOd_prx_",
        "outputId": "1c664d24-b716-4efe-e692-69df777901c1"
      },
      "execution_count": 87,
      "outputs": [
        {
          "output_type": "stream",
          "name": "stdout",
          "text": [
            "Output filename was given as: s_icm\n",
            "Processing paired-end Bismark output file(s) (SAM format):\n",
            "SRR5836475_1_bismark_bt2_pe.bam\n",
            "\n",
            "\n",
            "If there are several alignments to a single position in the genome the first alignment will be chosen. Since the input files are not in any way sorted this is a near-enough random selection of reads.\n",
            "\n",
            "Checking file >>SRR5836475_1_bismark_bt2_pe.bam<< for signs of file truncation...\n",
            "\n",
            "\n",
            "\n",
            "Now testing Bismark result file SRR5836475_1_bismark_bt2_pe.bam for positional sorting (which would be bad...)\t...passed!\n",
            "Output file is: s_icm.deduplicated.bam\n",
            "\n",
            "skipping header line:\t@HD\tVN:1.0\tSO:unsorted\n",
            "skipping header line:\t@SQ\tSN:chr11\tLN:122082543\n",
            "skipping header line:\t@PG\tID:Bismark\tVN:v0.23.1dev\tCL:\"bismark --gzip mouse_chr -1 data/SRR5836475_1.fastq.gz -2 data/SRR5836475_2.fastq.gz -o ICM/\"\n",
            "\n",
            "Total number of alignments analysed in SRR5836475_1_bismark_bt2_pe.bam:\t4159998\n",
            "Total number duplicated alignments removed:\t377882 (9.08%)\n",
            "Duplicated alignments were found at:\t229833 different position(s)\n",
            "\n",
            "Total count of deduplicated leftover sequences: 3782116 (90.92% of total)\n",
            "\n"
          ]
        }
      ]
    },
    {
      "cell_type": "code",
      "source": [
        "df2 = pd.DataFrame({\n",
        "        'Образцы WGBS': ['8cell', 'epiblast', 'ICM'],\n",
        "        'Сколько процентов прочтений дуплицированно в каждом из образцов': [81.69, 97.08, 90.92],\n",
        "     })\n",
        "df2"
      ],
      "metadata": {
        "colab": {
          "base_uri": "https://localhost:8080/",
          "height": 143
        },
        "id": "GuBMTtmGqFXn",
        "outputId": "1a9050ef-be82-477b-9f06-2480a69654a3"
      },
      "execution_count": 88,
      "outputs": [
        {
          "output_type": "execute_result",
          "data": {
            "text/html": [
              "\n",
              "  <div id=\"df-e2fce3c2-3e4b-40fe-8751-196e2209a076\">\n",
              "    <div class=\"colab-df-container\">\n",
              "      <div>\n",
              "<style scoped>\n",
              "    .dataframe tbody tr th:only-of-type {\n",
              "        vertical-align: middle;\n",
              "    }\n",
              "\n",
              "    .dataframe tbody tr th {\n",
              "        vertical-align: top;\n",
              "    }\n",
              "\n",
              "    .dataframe thead th {\n",
              "        text-align: right;\n",
              "    }\n",
              "</style>\n",
              "<table border=\"1\" class=\"dataframe\">\n",
              "  <thead>\n",
              "    <tr style=\"text-align: right;\">\n",
              "      <th></th>\n",
              "      <th>Образцы WGBS</th>\n",
              "      <th>Сколько процентов прочтений дуплицированно в каждом из образцов</th>\n",
              "    </tr>\n",
              "  </thead>\n",
              "  <tbody>\n",
              "    <tr>\n",
              "      <th>0</th>\n",
              "      <td>8cell</td>\n",
              "      <td>81.69</td>\n",
              "    </tr>\n",
              "    <tr>\n",
              "      <th>1</th>\n",
              "      <td>epiblast</td>\n",
              "      <td>97.08</td>\n",
              "    </tr>\n",
              "    <tr>\n",
              "      <th>2</th>\n",
              "      <td>ICM</td>\n",
              "      <td>90.92</td>\n",
              "    </tr>\n",
              "  </tbody>\n",
              "</table>\n",
              "</div>\n",
              "      <button class=\"colab-df-convert\" onclick=\"convertToInteractive('df-e2fce3c2-3e4b-40fe-8751-196e2209a076')\"\n",
              "              title=\"Convert this dataframe to an interactive table.\"\n",
              "              style=\"display:none;\">\n",
              "        \n",
              "  <svg xmlns=\"http://www.w3.org/2000/svg\" height=\"24px\"viewBox=\"0 0 24 24\"\n",
              "       width=\"24px\">\n",
              "    <path d=\"M0 0h24v24H0V0z\" fill=\"none\"/>\n",
              "    <path d=\"M18.56 5.44l.94 2.06.94-2.06 2.06-.94-2.06-.94-.94-2.06-.94 2.06-2.06.94zm-11 1L8.5 8.5l.94-2.06 2.06-.94-2.06-.94L8.5 2.5l-.94 2.06-2.06.94zm10 10l.94 2.06.94-2.06 2.06-.94-2.06-.94-.94-2.06-.94 2.06-2.06.94z\"/><path d=\"M17.41 7.96l-1.37-1.37c-.4-.4-.92-.59-1.43-.59-.52 0-1.04.2-1.43.59L10.3 9.45l-7.72 7.72c-.78.78-.78 2.05 0 2.83L4 21.41c.39.39.9.59 1.41.59.51 0 1.02-.2 1.41-.59l7.78-7.78 2.81-2.81c.8-.78.8-2.07 0-2.86zM5.41 20L4 18.59l7.72-7.72 1.47 1.35L5.41 20z\"/>\n",
              "  </svg>\n",
              "      </button>\n",
              "      \n",
              "  <style>\n",
              "    .colab-df-container {\n",
              "      display:flex;\n",
              "      flex-wrap:wrap;\n",
              "      gap: 12px;\n",
              "    }\n",
              "\n",
              "    .colab-df-convert {\n",
              "      background-color: #E8F0FE;\n",
              "      border: none;\n",
              "      border-radius: 50%;\n",
              "      cursor: pointer;\n",
              "      display: none;\n",
              "      fill: #1967D2;\n",
              "      height: 32px;\n",
              "      padding: 0 0 0 0;\n",
              "      width: 32px;\n",
              "    }\n",
              "\n",
              "    .colab-df-convert:hover {\n",
              "      background-color: #E2EBFA;\n",
              "      box-shadow: 0px 1px 2px rgba(60, 64, 67, 0.3), 0px 1px 3px 1px rgba(60, 64, 67, 0.15);\n",
              "      fill: #174EA6;\n",
              "    }\n",
              "\n",
              "    [theme=dark] .colab-df-convert {\n",
              "      background-color: #3B4455;\n",
              "      fill: #D2E3FC;\n",
              "    }\n",
              "\n",
              "    [theme=dark] .colab-df-convert:hover {\n",
              "      background-color: #434B5C;\n",
              "      box-shadow: 0px 1px 3px 1px rgba(0, 0, 0, 0.15);\n",
              "      filter: drop-shadow(0px 1px 2px rgba(0, 0, 0, 0.3));\n",
              "      fill: #FFFFFF;\n",
              "    }\n",
              "  </style>\n",
              "\n",
              "      <script>\n",
              "        const buttonEl =\n",
              "          document.querySelector('#df-e2fce3c2-3e4b-40fe-8751-196e2209a076 button.colab-df-convert');\n",
              "        buttonEl.style.display =\n",
              "          google.colab.kernel.accessAllowed ? 'block' : 'none';\n",
              "\n",
              "        async function convertToInteractive(key) {\n",
              "          const element = document.querySelector('#df-e2fce3c2-3e4b-40fe-8751-196e2209a076');\n",
              "          const dataTable =\n",
              "            await google.colab.kernel.invokeFunction('convertToInteractive',\n",
              "                                                     [key], {});\n",
              "          if (!dataTable) return;\n",
              "\n",
              "          const docLinkHtml = 'Like what you see? Visit the ' +\n",
              "            '<a target=\"_blank\" href=https://colab.research.google.com/notebooks/data_table.ipynb>data table notebook</a>'\n",
              "            + ' to learn more about interactive tables.';\n",
              "          element.innerHTML = '';\n",
              "          dataTable['output_type'] = 'display_data';\n",
              "          await google.colab.output.renderOutput(dataTable, element);\n",
              "          const docLink = document.createElement('div');\n",
              "          docLink.innerHTML = docLinkHtml;\n",
              "          element.appendChild(docLink);\n",
              "        }\n",
              "      </script>\n",
              "    </div>\n",
              "  </div>\n",
              "  "
            ],
            "text/plain": [
              "  Образцы WGBS  Сколько процентов прочтений дуплицированно в каждом из образцов\n",
              "0        8cell                                              81.69              \n",
              "1     epiblast                                              97.08              \n",
              "2          ICM                                              90.92              "
            ]
          },
          "metadata": {},
          "execution_count": 88
        }
      ]
    },
    {
      "cell_type": "code",
      "source": [
        "! ls"
      ],
      "metadata": {
        "id": "dltPWkHSmO8n",
        "colab": {
          "base_uri": "https://localhost:8080/"
        },
        "outputId": "7633f3ad-a9f6-417e-c018-0445db99b1fc"
      },
      "execution_count": 89,
      "outputs": [
        {
          "output_type": "stream",
          "name": "stdout",
          "text": [
            "condacolab_install.log\n",
            "drive\n",
            "FastQC\n",
            "fastqc_v0.11.9.zip\n",
            "s_8_cell.deduplicated.bam\n",
            "sample_data\n",
            "s_epiblast.deduplicated.bam\n",
            "s_icm.deduplicated.bam\n",
            "sorted_8cell.bam\n",
            "sorted_8cell.bam.bai\n",
            "sorted_epiblast.bam\n",
            "sorted_epiblast.bam.bai\n",
            "sorted_icm.bam\n",
            "sorted_icm.bam.bai\n",
            "SRR3824222_1_bismark_bt2_pe.bam\n",
            "SRR3824222_1_bismark_bt2_pe.deduplication_report.txt\n",
            "SRR3824222_1_bismark_bt2_PE_report.txt\n",
            "SRR3824222_1.fastq.gz\n",
            "SRR3824222_2.fastq.gz\n",
            "SRR5836473_1_bismark_bt2_pe.bam\n",
            "SRR5836473_1_bismark_bt2_pe.deduplication_report.txt\n",
            "SRR5836473_1_bismark_bt2_PE_report.txt\n",
            "SRR5836473_1.fastq.gz\n",
            "SRR5836473_2.fastq.gz\n",
            "SRR5836475_1_bismark_bt2_pe.bam\n",
            "SRR5836475_1_bismark_bt2_pe.deduplication_report.txt\n",
            "SRR5836475_1_bismark_bt2_PE_report.txt\n",
            "SRR5836475_1.fastq.gz\n",
            "SRR5836475_2.fastq.gz\n"
          ]
        }
      ]
    },
    {
      "cell_type": "code",
      "source": [
        "! gdown --id 1Gh6YYO8zmCiUfZ4ShVcvFp3J_gXjnoOF"
      ],
      "metadata": {
        "id": "9S2o5FnXmREG",
        "colab": {
          "base_uri": "https://localhost:8080/"
        },
        "outputId": "22f4b962-dd89-45bf-a28e-da35f3afbf87"
      },
      "execution_count": 90,
      "outputs": [
        {
          "output_type": "stream",
          "name": "stdout",
          "text": [
            "Downloading...\n",
            "From: https://drive.google.com/uc?id=1Gh6YYO8zmCiUfZ4ShVcvFp3J_gXjnoOF\n",
            "To: /content/mouse_chr.zip\n",
            "100% 366M/366M [00:01<00:00, 237MB/s]\n"
          ]
        }
      ]
    },
    {
      "cell_type": "code",
      "source": [
        "! unzip mouse_chr.zip"
      ],
      "metadata": {
        "id": "Zqkw4TRKmTCo",
        "colab": {
          "base_uri": "https://localhost:8080/"
        },
        "outputId": "884d1bc2-f51e-4c70-bb5e-771b3601eee0"
      },
      "execution_count": 91,
      "outputs": [
        {
          "output_type": "stream",
          "name": "stdout",
          "text": [
            "Archive:  mouse_chr.zip\n",
            "   creating: mouse_chr/\n",
            "   creating: mouse_chr/Bisulfite_Genome/\n",
            "   creating: mouse_chr/Bisulfite_Genome/CT_conversion/\n",
            "  inflating: mouse_chr/Bisulfite_Genome/CT_conversion/genome_mfa.CT_conversion.fa  \n",
            "  inflating: mouse_chr/Bisulfite_Genome/CT_conversion/BS_CT.4.bt2  \n",
            "  inflating: mouse_chr/Bisulfite_Genome/CT_conversion/BS_CT.1.bt2  \n",
            "  inflating: mouse_chr/Bisulfite_Genome/CT_conversion/BS_CT.3.bt2  \n",
            "  inflating: mouse_chr/Bisulfite_Genome/CT_conversion/BS_CT.2.bt2  \n",
            "  inflating: mouse_chr/Bisulfite_Genome/CT_conversion/BS_CT.rev.2.bt2  \n",
            "  inflating: mouse_chr/Bisulfite_Genome/CT_conversion/BS_CT.rev.1.bt2  \n",
            "   creating: mouse_chr/Bisulfite_Genome/GA_conversion/\n",
            "  inflating: mouse_chr/Bisulfite_Genome/GA_conversion/BS_GA.rev.1.bt2  \n",
            "  inflating: mouse_chr/Bisulfite_Genome/GA_conversion/BS_GA.rev.2.bt2  \n",
            "  inflating: mouse_chr/Bisulfite_Genome/GA_conversion/genome_mfa.GA_conversion.fa  \n",
            "  inflating: mouse_chr/Bisulfite_Genome/GA_conversion/BS_GA.4.bt2  \n",
            "  inflating: mouse_chr/Bisulfite_Genome/GA_conversion/BS_GA.1.bt2  \n",
            "  inflating: mouse_chr/Bisulfite_Genome/GA_conversion/BS_GA.2.bt2  \n",
            "  inflating: mouse_chr/Bisulfite_Genome/GA_conversion/BS_GA.3.bt2  \n",
            "  inflating: mouse_chr/chr11.fa      \n"
          ]
        }
      ]
    },
    {
      "cell_type": "markdown",
      "source": [
        "Время работы: ±30 мин"
      ],
      "metadata": {
        "id": "zUYaYIMWmWXS"
      }
    },
    {
      "cell_type": "code",
      "source": [
        "! head s_8_cell.deduplicated.bedGraph"
      ],
      "metadata": {
        "id": "G_zjiKHOmTrv",
        "colab": {
          "base_uri": "https://localhost:8080/"
        },
        "outputId": "70f1dcf6-fea1-468e-98e0-ec1c37dfe9b7"
      },
      "execution_count": 92,
      "outputs": [
        {
          "output_type": "stream",
          "name": "stdout",
          "text": [
            "head: cannot open 's_8_cell.deduplicated.bedGraph' for reading: No such file or directory\n"
          ]
        }
      ]
    },
    {
      "cell_type": "code",
      "source": [
        "! head s_epiblast.deduplicated.bedGraph"
      ],
      "metadata": {
        "colab": {
          "base_uri": "https://localhost:8080/"
        },
        "id": "4KmgP88yqhjD",
        "outputId": "11dc2d27-8eb6-4b8e-e8c5-459baaee6148"
      },
      "execution_count": 93,
      "outputs": [
        {
          "output_type": "stream",
          "name": "stdout",
          "text": [
            "head: cannot open 's_epiblast.deduplicated.bedGraph' for reading: No such file or directory\n"
          ]
        }
      ]
    },
    {
      "cell_type": "code",
      "source": [
        "! head s_icm.deduplicated.bedGraph"
      ],
      "metadata": {
        "colab": {
          "base_uri": "https://localhost:8080/"
        },
        "id": "3uuFuTPbqhvi",
        "outputId": "8bec51ae-07f9-463a-e2c0-3a0de5347fbb"
      },
      "execution_count": 94,
      "outputs": [
        {
          "output_type": "stream",
          "name": "stdout",
          "text": [
            "head: cannot open 's_icm.deduplicated.bedGraph' for reading: No such file or directory\n"
          ]
        }
      ]
    },
    {
      "cell_type": "markdown",
      "source": [
        "Коллинг метилирования"
      ],
      "metadata": {
        "id": "psgm5kyAmbvp"
      }
    },
    {
      "cell_type": "code",
      "source": [
        "! bismark_methylation_extractor --gzip --bedGraph --cytosine_report --genome_folder ./mouse_chr s_8_cell.deduplicated.bam"
      ],
      "metadata": {
        "id": "EOSBJWGOmZQH",
        "colab": {
          "base_uri": "https://localhost:8080/"
        },
        "outputId": "d02c8100-fd87-430e-dc6b-a81dbb235480"
      },
      "execution_count": 95,
      "outputs": [
        {
          "output_type": "stream",
          "name": "stdout",
          "text": [
            "\n",
            " *** Bismark methylation extractor version v0.23.1 ***\n",
            "\n",
            "Trying to determine the type of mapping from the SAM header line of file s_8_cell.deduplicated.bam\n",
            "Treating file(s) as paired-end data (as extracted from @PG line)\n",
            "\n",
            "Setting option '--no_overlap' since this is (normally) the right thing to do for paired-end data\n",
            "\n",
            "\n",
            "Setting core usage to single-threaded (default). Consider using --multicore <int> to speed up the extraction process.\n",
            "\n",
            "Summarising Bismark methylation extractor parameters:\n",
            "===============================================================\n",
            "Bismark paired-end SAM format specified (default)\n",
            "Number of cores to be used: 1\n",
            "Output will be written to the current directory ('/content')\n",
            "\n",
            "\n",
            "Summarising bedGraph parameters:\n",
            "===============================================================\n",
            "Generating additional output in bedGraph and coverage format\n",
            "bedGraph format:\t<Chromosome> <Start Position> <End Position> <Methylation Percentage>\n",
            "coverage format:\t<Chromosome> <Start Position> <End Position> <Methylation Percentage> <count methylated> <count non-methylated>\n",
            "\n",
            "Using a cutoff of 1 read(s) to report cytosine positions\n",
            "Reporting and sorting cytosine methylation information in CpG context only (default)\n",
            "The bedGraph UNIX sort command will use the following memory setting:\t'2G'. Temporary directory used for sorting is the output directory\n",
            "\n",
            "\n",
            "Summarising genome-wide cytosine methylation report parameters:\n",
            "===============================================================\n",
            "Generating comprehensive genome-wide cytosine report\n",
            "(output format: <Chromosome> <Position> <Strand> <count methylated> <count non-methylated>  <C-context>  <trinucleotide context> )\n",
            "Reporting cytosine methylation in CpG context only (default)\n",
            "Using 1-based genomic coordinates (default)\n",
            "Genome folder was specified as ./mouse_chr/\n",
            "\n",
            "Checking file >>s_8_cell.deduplicated.bam<< for signs of file truncation...\n",
            "\n",
            "\n",
            "Now testing Bismark result file >s_8_cell.deduplicated.bam< for positional sorting (which would be bad...)\t...passed!\n",
            "Writing result file containing methylation information for C in CpG context from the original top strand to CpG_OT_s_8_cell.deduplicated.txt.gz\n",
            "Writing result file containing methylation information for C in CpG context from the complementary to original top strand to CpG_CTOT_s_8_cell.deduplicated.txt.gz\n",
            "Writing result file containing methylation information for C in CpG context from the complementary to original bottom strand to CpG_CTOB_s_8_cell.deduplicated.txt.gz\n",
            "Writing result file containing methylation information for C in CpG context from the original bottom strand to CpG_OB_s_8_cell.deduplicated.txt.gz\n",
            "\n",
            "Writing result file containing methylation information for C in CHG context from the original top strand to CHG_OT_s_8_cell.deduplicated.txt.gz\n",
            "Writing result file containing methylation information for C in CHG context from the complementary to original top strand to CHG_CTOT_s_8_cell.deduplicated.txt.gz\n",
            "Writing result file containing methylation information for C in CHG context from the complementary to original bottom strand to CHG_CTOB_s_8_cell.deduplicated.txt.gz\n",
            "Writing result file containing methylation information for C in CHG context from the original bottom strand to CHG_OB_s_8_cell.deduplicated.txt.gz\n",
            "\n",
            "Writing result file containing methylation information for C in CHH context from the original top strand to CHH_OT_s_8_cell.deduplicated.txt.gz\n",
            "Writing result file containing methylation information for C in CHH context from the complementary to original top strand to CHH_CTOT_s_8_cell.deduplicated.txt.gz\n",
            "Writing result file containing methylation information for C in CHH context from the complementary to original bottom strand to CHH_CTOB_s_8_cell.deduplicated.txt.gz\n",
            "Writing result file containing methylation information for C in CHH context from the original bottom strand to CHH_OB_s_8_cell.deduplicated.txt.gz\n",
            "\n",
            "Now reading in Bismark result file s_8_cell.deduplicated.bam\n",
            "skipping SAM header line:\t@HD\tVN:1.0\tSO:unsorted\n",
            "skipping SAM header line:\t@SQ\tSN:chr11\tLN:122082543\n",
            "skipping SAM header line:\t@PG\tID:Bismark\tVN:v0.23.1dev\tCL:\"bismark -p 2 --gzip mouse_chr -1 data/SRR5836473_1.fastq.gz -2 data/SRR5836473_2.fastq.gz -o cell8/\"\n",
            "Processed lines: 500000\n",
            "Processed lines: 1000000\n",
            "Processed lines: 1500000\n",
            "Processed lines: 2000000\n",
            "\n",
            "Processed 2328327 lines in total\n",
            "Total number of methylation call strings processed: 4656654\n",
            "\n",
            "Final Cytosine Methylation Report\n",
            "=================================\n",
            "Total number of C's analysed:\t104224209\n",
            "\n",
            "Total methylated C's in CpG context:\t2101489\n",
            "Total methylated C's in CHG context:\t269204\n",
            "Total methylated C's in CHH context:\t944695\n",
            "\n",
            "Total C to T conversions in CpG context:\t2731177\n",
            "Total C to T conversions in CHG context:\t22964928\n",
            "Total C to T conversions in CHH context:\t75212716\n",
            "\n",
            "C methylated in CpG context:\t43.5%\n",
            "C methylated in CHG context:\t1.2%\n",
            "C methylated in CHH context:\t1.2%\n",
            "\n",
            "\n",
            "Determining maximum read lengths for M-Bias plots\n",
            "Maximum read length of Read 1: 140\n",
            "Maximum read length of Read 2: 140\n",
            "\n",
            "Perl module GD::Graph::lines is not installed, skipping drawing M-bias plots (only writing out M-bias plot table)\n",
            "Determining maximum read lengths for M-Bias plots\n",
            "Maximum read length of Read 1: 140\n",
            "Maximum read length of Read 2: 140\n",
            "\n",
            "Perl module GD::Graph::lines is not installed, skipping drawing M-bias plots (only writing out M-bias plot table)\n",
            "Deleting unused files ...\n",
            "\n",
            "CpG_OT_s_8_cell.deduplicated.txt.gz contains data ->\tkept\n",
            "CpG_CTOT_s_8_cell.deduplicated.txt.gz was empty ->\tdeleted\n",
            "CpG_CTOB_s_8_cell.deduplicated.txt.gz was empty ->\tdeleted\n",
            "CpG_OB_s_8_cell.deduplicated.txt.gz contains data ->\tkept\n",
            "CHG_OT_s_8_cell.deduplicated.txt.gz contains data ->\tkept\n",
            "CHG_CTOT_s_8_cell.deduplicated.txt.gz was empty ->\tdeleted\n",
            "CHG_CTOB_s_8_cell.deduplicated.txt.gz was empty ->\tdeleted\n",
            "CHG_OB_s_8_cell.deduplicated.txt.gz contains data ->\tkept\n",
            "CHH_OT_s_8_cell.deduplicated.txt.gz contains data ->\tkept\n",
            "CHH_CTOT_s_8_cell.deduplicated.txt.gz was empty ->\tdeleted\n",
            "CHH_CTOB_s_8_cell.deduplicated.txt.gz was empty ->\tdeleted\n",
            "CHH_OB_s_8_cell.deduplicated.txt.gz contains data ->\tkept\n",
            "\n",
            "\n",
            "Using these input files: CpG_OT_s_8_cell.deduplicated.txt.gz CpG_OB_s_8_cell.deduplicated.txt.gz CHG_OT_s_8_cell.deduplicated.txt.gz CHG_OB_s_8_cell.deduplicated.txt.gz CHH_OT_s_8_cell.deduplicated.txt.gz CHH_OB_s_8_cell.deduplicated.txt.gz\n",
            "\n",
            "Summary of parameters for bismark2bedGraph conversion:\n",
            "======================================================\n",
            "bedGraph output:\t\ts_8_cell.deduplicated.bedGraph.gz\n",
            "output directory:\t\t><\n",
            "remove whitespaces:\t\tno\n",
            "CX context:\t\t\tno (CpG context only, default)\n",
            "No-header selected:\t\tno\n",
            "Sorting method:\t\t\tUnix sort-based (smaller memory footprint, but slower)\n",
            "Sort buffer size:\t\t2G\n",
            "Coverage threshold:\t\t1\n",
            "=============================================================================\n",
            "Methylation information will now be written into a bedGraph and coverage file\n",
            "=============================================================================\n",
            "\n",
            "Using the following files as Input:\n",
            "/content/CpG_OT_s_8_cell.deduplicated.txt.gz\t/content/CpG_OB_s_8_cell.deduplicated.txt.gz\n",
            "\n",
            "Writing bedGraph to file: s_8_cell.deduplicated.bedGraph.gz\n",
            "Also writing out a coverage file including counts methylated and unmethylated residues to file: s_8_cell.deduplicated.bismark.cov.gz\n",
            "\n",
            "Now writing methylation information for file >>CpG_OT_s_8_cell.deduplicated.txt.gz<< to individual files for each chromosome\n",
            "Finished writing out individual chromosome files for CpG_OT_s_8_cell.deduplicated.txt.gz\n",
            "Now writing methylation information for file >>CpG_OB_s_8_cell.deduplicated.txt.gz<< to individual files for each chromosome\n",
            "Finished writing out individual chromosome files for CpG_OB_s_8_cell.deduplicated.txt.gz\n",
            "\n",
            "Collecting temporary chromosome file information... Processing the following input file(s):\n",
            "CpG_OT_s_8_cell.deduplicated.txt.gz.chrchr11.methXtractor.temp\n",
            "\n",
            "Sorting input file CpG_OT_s_8_cell.deduplicated.txt.gz.chrchr11.methXtractor.temp by positions (using -S of 2G)\n",
            "tcmalloc: large alloc 2147491840 bytes == 0x559389242000 @  0x7f73e72c11e7 0x5593875fa718 0x5593875f95a1 0x7f73e6c9fbf7 0x5593875fa02a\n",
            "Successfully deleted the temporary input file CpG_OT_s_8_cell.deduplicated.txt.gz.chrchr11.methXtractor.temp\n",
            "\n",
            "Finished BedGraph conversion ...\n",
            "\n",
            "Summary of parameters for genome-wide cytosine report:\n",
            "==============================================================================\n",
            "Coverage infile:\t\t\t\ts_8_cell.deduplicated.bismark.cov.gz\n",
            "Output directory:\t\t\t\t><\n",
            "Parent directory:\t\t\t\t>/content/<\n",
            "Genome directory:\t\t\t\t>/content/mouse_chr/<\n",
            "Coverage threshold\t\t\t\t0 (all positions will be reported, default)\n",
            "CX context:\t\t\t\t\tno (CpG context only, default)\n",
            "Genome coordinates used:\t\t\t1-based (default)\n",
            "GZIP compression:\t\t\t\tyes\n",
            "Split by chromosome:\t\t\t\tno\n",
            "\n",
            "\n",
            "Now reading in and storing sequence information of the genome specified in: /content/mouse_chr/\n",
            "\n",
            "chr chr11 (122082543 bp)\n",
            "\n",
            "Stored sequence information of 1 chromosomes/scaffolds in total\n",
            "\n",
            "==============================================================================\n",
            "Methylation information will now be written into a genome-wide cytosine report\n",
            "==============================================================================\n",
            "\n",
            "Adding context-specific methylation summaries\n",
            "\n",
            ">>> Writing genome-wide cytosine report to: s_8_cell.deduplicated.CpG_report.txt.gz <<<\n",
            "\n",
            ">>> Writing all cytosine context summary file to: s_8_cell.deduplicated.cytosine_context_summary.txt <<<\n",
            "\n",
            "Storing all covered cytosine positions for chromosome: chr11\n",
            "Writing cytosine report for last chromosome chr11 (stored 1736778 different covered positions)\n",
            "Finished writing out cytosine report for covered chromosomes (processed 1 chromosomes/scaffolds in total)\n",
            "\n",
            "Now processing chromosomes that were not covered by any methylation calls in the coverage file...\n",
            "All chromosomes in the genome were covered by at least some reads. coverage2cytosine processing complete.\n",
            "\n",
            "\n",
            "\n",
            "Finished generating genome-wide cytosine report\n",
            "\n"
          ]
        }
      ]
    },
    {
      "cell_type": "code",
      "source": [
        "! bismark_methylation_extractor --gzip --bedGraph --cytosine_report --genome_folder ./mouse_chr s_epiblast.deduplicated.bam"
      ],
      "metadata": {
        "id": "EmDSBHZdq24C"
      },
      "execution_count": null,
      "outputs": []
    },
    {
      "cell_type": "code",
      "source": [
        "! bismark_methylation_extractor --gzip --bedGraph --cytosine_report --genome_folder ./mouse_chr s_icm.deduplicated.bam"
      ],
      "metadata": {
        "id": "L2RAReGPq3DU"
      },
      "execution_count": null,
      "outputs": []
    },
    {
      "cell_type": "code",
      "source": [
        "! ls -lh"
      ],
      "metadata": {
        "id": "-RDDWsCnmhZd"
      },
      "execution_count": null,
      "outputs": []
    },
    {
      "cell_type": "code",
      "source": [
        "! bismark2report -mbias_report s_8_cell.deduplicated.M-bias.txt"
      ],
      "metadata": {
        "id": "q6f9bZlOmh8S"
      },
      "execution_count": null,
      "outputs": []
    },
    {
      "cell_type": "code",
      "source": [
        "! bismark2report -mbias_report s_epiblast.deduplicated.M-bias.txt"
      ],
      "metadata": {
        "id": "Jvya3QjyrTaF"
      },
      "execution_count": null,
      "outputs": []
    },
    {
      "cell_type": "code",
      "source": [
        "! bismark2report -mbias_report s_icm.deduplicated.M-bias.txt"
      ],
      "metadata": {
        "id": "-n3XuNS8rTdX"
      },
      "execution_count": null,
      "outputs": []
    },
    {
      "cell_type": "code",
      "source": [
        "! head s_8_cell.deduplicated.bedGraph"
      ],
      "metadata": {
        "id": "opxc7CQymnT5"
      },
      "execution_count": null,
      "outputs": []
    },
    {
      "cell_type": "code",
      "source": [
        "! head s_epiblast.deduplicated.bedGraph"
      ],
      "metadata": {
        "id": "2OIM50bXrc6j"
      },
      "execution_count": null,
      "outputs": []
    },
    {
      "cell_type": "code",
      "source": [
        "! head s_icm.deduplicated.bedGraph"
      ],
      "metadata": {
        "id": "v3TWSCRerdFq"
      },
      "execution_count": null,
      "outputs": []
    },
    {
      "cell_type": "code",
      "source": [
        "import pandas as pd\n",
        "\n",
        "df = pd.read_csv(\"s_SRR5836473_1_bismark_bt2_pe.deduplicated.bedGraph\", delimiter='\\t', skiprows=1, header=None)\n",
        "df.head()"
      ],
      "metadata": {
        "id": "3U0yV3XcuD0n"
      },
      "execution_count": null,
      "outputs": []
    },
    {
      "cell_type": "code",
      "source": [
        "import seaborn as sns"
      ],
      "metadata": {
        "id": "3sirI2U3uEfc"
      },
      "execution_count": null,
      "outputs": []
    },
    {
      "cell_type": "code",
      "source": [
        "sns.set_style(\"darkgrid\")"
      ],
      "metadata": {
        "id": "9F8gHQgGuJIr"
      },
      "execution_count": null,
      "outputs": []
    },
    {
      "cell_type": "code",
      "source": [
        "import matplotlib.pyplot as plt\n",
        "\n",
        "plt.figure(figsize=[10, 6])\n",
        "plt.title(\"Распределение метилирования 8cell\", fontsize=16)\n",
        "plt.hist(df[3], bins=100, density=True)\n",
        "plt.show()"
      ],
      "metadata": {
        "id": "ayYDxvlVuNVV"
      },
      "execution_count": null,
      "outputs": []
    },
    {
      "cell_type": "code",
      "source": [
        "df2 = pd.read_csv(\"s_SRR3824222_1_bismark_bt2_pe.deduplicated.bedGraph\", delimiter='\\t', skiprows=1, header=None)\n",
        "\n",
        "plt.figure(figsize=[10, 6])\n",
        "plt.title(\"Распределение метилирования Epiblast\", fontsize=16)\n",
        "plt.hist(df2[3], bins=100, density=True)\n",
        "plt.show()"
      ],
      "metadata": {
        "id": "0H_zj2unuVjS"
      },
      "execution_count": null,
      "outputs": []
    },
    {
      "cell_type": "code",
      "source": [
        "df3 = pd.read_csv(\"s_SRR5836475_1_bismark_bt2_pe.deduplicated.bedGraph\", delimiter='\\t', skiprows=1, header=None)\n",
        "\n",
        "plt.figure(figsize=[10, 6])\n",
        "plt.title(\"Распределение метилирования ICM\", fontsize=16)\n",
        "plt.hist(df3[3], bins=100, density=True)\n",
        "plt.show()"
      ],
      "metadata": {
        "id": "dxtPsc1puYLd"
      },
      "execution_count": null,
      "outputs": []
    },
    {
      "cell_type": "code",
      "source": [
        "! head s_8_cell.deduplicated.bismark.cov"
      ],
      "metadata": {
        "id": "-axuDyjEutgO"
      },
      "execution_count": null,
      "outputs": []
    },
    {
      "cell_type": "code",
      "source": [
        "! head s_epiblast.deduplicated.bismark.cov"
      ],
      "metadata": {
        "id": "sgr31z8eut00"
      },
      "execution_count": null,
      "outputs": []
    },
    {
      "cell_type": "code",
      "source": [
        "! head s_icm.deduplicated.bismark.cov"
      ],
      "metadata": {
        "id": "vMo9Qs_Suxyo"
      },
      "execution_count": null,
      "outputs": []
    },
    {
      "cell_type": "code",
      "source": [
        "! pip install pyGenomeTracks"
      ],
      "metadata": {
        "id": "beJuBXptmskH"
      },
      "execution_count": null,
      "outputs": []
    },
    {
      "cell_type": "code",
      "source": [
        "!pip install -U ipykernel"
      ],
      "metadata": {
        "id": "Ek8i3qH7mu6j"
      },
      "execution_count": null,
      "outputs": []
    },
    {
      "cell_type": "code",
      "source": [
        "! conda install -c bioconda ucsc-fetchchromsizes"
      ],
      "metadata": {
        "id": "pQYu19eOmxKn"
      },
      "execution_count": null,
      "outputs": []
    },
    {
      "cell_type": "code",
      "source": [
        "! fetchChromSizes mm10 > m.chrom.sizes"
      ],
      "metadata": {
        "id": "L7JGiVE6m0De"
      },
      "execution_count": null,
      "outputs": []
    },
    {
      "cell_type": "code",
      "source": [
        "! conda install -c bioconda ucsc-bedgraphtobigwig"
      ],
      "metadata": {
        "id": "twr0m7fzm3hb"
      },
      "execution_count": null,
      "outputs": []
    },
    {
      "cell_type": "code",
      "source": [
        "! bedGraphToBigWig  s_8_cell.deduplicated.bedGraph m.chrom.sizes cell8_methylation.bigWig"
      ],
      "metadata": {
        "id": "5xZ-Jrnkm6fi"
      },
      "execution_count": null,
      "outputs": []
    },
    {
      "cell_type": "code",
      "source": [
        "! bedGraphToBigWig  s_epiblast.deduplicated.bedGraph m.chrom.sizes cell8_methylation.bigWig"
      ],
      "metadata": {
        "id": "kOxXj3GLsS2E"
      },
      "execution_count": null,
      "outputs": []
    },
    {
      "cell_type": "code",
      "source": [
        "! bedGraphToBigWig  s_icm.deduplicated.bedGraph m.chrom.sizes cell8_methylation.bigWig"
      ],
      "metadata": {
        "id": "ELxaIoNCsS92"
      },
      "execution_count": null,
      "outputs": []
    },
    {
      "cell_type": "code",
      "source": [
        "! head s_8_cell.deduplicated.bedGraph"
      ],
      "metadata": {
        "id": "dyixfu2Zm9PH"
      },
      "execution_count": null,
      "outputs": []
    },
    {
      "cell_type": "code",
      "source": [
        "! head s_epiblast.deduplicated.bedGraph"
      ],
      "metadata": {
        "id": "YOtobMgIv0gO"
      },
      "execution_count": null,
      "outputs": []
    },
    {
      "cell_type": "code",
      "source": [
        "! head s_icm.deduplicated.bedGraph"
      ],
      "metadata": {
        "id": "lmoR3A6-v0qL"
      },
      "execution_count": null,
      "outputs": []
    },
    {
      "cell_type": "code",
      "source": [
        "! apt-get install bedtools"
      ],
      "metadata": {
        "id": "d1--3RWHm_SJ"
      },
      "execution_count": null,
      "outputs": []
    },
    {
      "cell_type": "code",
      "source": [
        "! bedtools genomecov -bg -ibam s_8_cell.deduplicated.bam -g m.chromSizes  >  s_8_cell.cover.bedGraph"
      ],
      "metadata": {
        "id": "tU--6bt2nBPg"
      },
      "execution_count": null,
      "outputs": []
    },
    {
      "cell_type": "code",
      "source": [
        "! bedtools genomecov -bg -ibam s_epiblast.deduplicated.bam -g m.chromSizes  >  s_8_cell.cover.bedGraph"
      ],
      "metadata": {
        "id": "LlO5OLtQv8jW"
      },
      "execution_count": null,
      "outputs": []
    },
    {
      "cell_type": "code",
      "source": [
        "! bedtools genomecov -bg -ibam s_icm.deduplicated.bam -g m.chromSizes  >  s_8_cell.cover.bedGraph"
      ],
      "metadata": {
        "id": "nVcdyISmv8uX"
      },
      "execution_count": null,
      "outputs": []
    },
    {
      "cell_type": "code",
      "source": [
        "! bedGraphToBigWig   s_8_cell.cover.bedGraph m.chrom.sizes cell8_coverage.bigWig"
      ],
      "metadata": {
        "id": "Z4iolL3FnD8p"
      },
      "execution_count": null,
      "outputs": []
    },
    {
      "cell_type": "code",
      "source": [
        "! bedGraphToBigWig   s_epiblast.cover.bedGraph m.chrom.sizes cell8_coverage.bigWig"
      ],
      "metadata": {
        "id": "oCMObBLpwFyO"
      },
      "execution_count": null,
      "outputs": []
    },
    {
      "cell_type": "code",
      "source": [
        "! bedGraphToBigWig   s_icm.cover.bedGraph m.chrom.sizes cell8_coverage.bigWig"
      ],
      "metadata": {
        "id": "uzrUhc8BwF82"
      },
      "execution_count": null,
      "outputs": []
    },
    {
      "cell_type": "code",
      "source": [
        "! head s_8_cell.deduplicated.bedGraph"
      ],
      "metadata": {
        "id": "YSghJayhnFzV"
      },
      "execution_count": null,
      "outputs": []
    },
    {
      "cell_type": "code",
      "source": [
        "! head s_epiblast.deduplicated.bedGraph"
      ],
      "metadata": {
        "id": "ky10HW_WwNpq"
      },
      "execution_count": null,
      "outputs": []
    },
    {
      "cell_type": "code",
      "source": [
        "! head s_icm.deduplicated.bedGraph"
      ],
      "metadata": {
        "id": "md5u04mEwNxQ"
      },
      "execution_count": null,
      "outputs": []
    },
    {
      "cell_type": "code",
      "source": [
        "! pyGenomeTracks --tracks tracks.ini.txt --region chr11:3100030-3500030 -o image_cov.png"
      ],
      "metadata": {
        "id": "r3XfPJcznHp0"
      },
      "execution_count": null,
      "outputs": []
    }
  ]
}